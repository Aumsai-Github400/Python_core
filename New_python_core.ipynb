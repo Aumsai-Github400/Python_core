{
  "cells": [
    {
      "cell_type": "markdown",
      "id": "635d1628",
      "metadata": {
        "id": "635d1628"
      },
      "source": [
        "### Data Science Definition"
      ]
    },
    {
      "cell_type": "raw",
      "id": "9ad10dd5",
      "metadata": {
        "id": "9ad10dd5"
      },
      "source": [
        "Def: \n",
        "    \n",
        "    Data Science is an interdisciplinary field that uses scientific methods, process and algorithms to extract the knowledge adn insights from [raw data]noisy, structured and unstructured data, and apply knwoldge and actionabale insights from the data across a domain."
      ]
    },
    {
      "cell_type": "markdown",
      "id": "e9a5cf84",
      "metadata": {
        "id": "e9a5cf84"
      },
      "source": [
        "### Python Features"
      ]
    },
    {
      "cell_type": "raw",
      "id": "731ed708",
      "metadata": {
        "id": "731ed708"
      },
      "source": [
        "1. Easy to Understand : python is high level programming langugage [low level --- machine / binary (0/1)]\n",
        "2. Wide range of libraries avilable. [pre-defined function] e.g numpy , pandas, scipy, sklearn\n",
        "3. platform indpendant >> Window 11, linux , Macos, \n",
        "4. GUI Programming Support >>\n",
        "5. Require less number lines to build the logic to code. \n",
        "6. Easy to debug >> Errors are easy read and undertsand \n",
        "7. Oject oriented programing language. \n",
        "8. Automation\n",
        "9. It can used for embedded and integrated system . \n",
        "10. Free and open-source [Anyone can contirbute]\n",
        "11. Dnyamically Typed Language >> data type [int, float, string]\n",
        "12. Python is extensible >> we can write & compile in c/c++\n",
        "13. Python has huge active community. \n",
        "14. python is interpreted labguage >> code excutes line by line [compiler >> whole code gets converted into machine code ]\n",
        "15. Visualisation is possible [graphas, plots]\n",
        "16. It is portable language. "
      ]
    },
    {
      "cell_type": "markdown",
      "id": "b9a6a16e",
      "metadata": {
        "id": "b9a6a16e"
      },
      "source": [
        "### Built-in Data Types"
      ]
    },
    {
      "cell_type": "markdown",
      "source": [
        "![image.png](data:image/png;base64,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)"
      ],
      "metadata": {
        "id": "xW2YGlsLhv0O"
      },
      "id": "xW2YGlsLhv0O"
    },
    {
      "cell_type": "markdown",
      "id": "c14ec9e4",
      "metadata": {
        "id": "c14ec9e4"
      },
      "source": [
        "### 1. Python Variables"
      ]
    },
    {
      "cell_type": "markdown",
      "id": "5b67f810",
      "metadata": {
        "id": "5b67f810"
      },
      "source": [
        "#### 1.1 Variable Names"
      ]
    },
    {
      "cell_type": "raw",
      "id": "8c39987c",
      "metadata": {
        "id": "8c39987c"
      },
      "source": [
        "A variable name must start with a letter or the underscore character\n",
        "A variable name cannot start with a number\n",
        "A variable name can only contain alpha-numeric characters and underscores (A-z, 0-9, and _ )\n",
        "Variable names are case-sensitive (age, Age and AGE are three different variables)"
      ]
    },
    {
      "cell_type": "markdown",
      "id": "f79b67e9",
      "metadata": {
        "id": "f79b67e9"
      },
      "source": [
        "#### 1.2 Multi Words Variable Names"
      ]
    },
    {
      "cell_type": "raw",
      "id": "f959079e",
      "metadata": {
        "id": "f959079e"
      },
      "source": [
        "1. Camel Case========>myVariableName\n",
        "2. Pascal Case=======>MyVariableName \n",
        "3. Snake Case========>my_variable_name "
      ]
    },
    {
      "cell_type": "markdown",
      "id": "670829dc",
      "metadata": {
        "id": "670829dc"
      },
      "source": [
        "#### 1.3 Global Variables"
      ]
    },
    {
      "cell_type": "raw",
      "id": "57f34d5a",
      "metadata": {
        "id": "57f34d5a"
      },
      "source": [
        "Variables that are created outside of a function (as in all of the examples above) are known as global variables.\n",
        "Global variables can be used by everyone, both inside of functions and outside.\n",
        "\n",
        "The global Keyword\n",
        "\n",
        "Normally, when you create a variable inside a function, that variable is local, and can only be used inside that function.\n",
        "To create a global variable inside a function, you can use the 'global' keyword.\n",
        "\n",
        "Also, use the global keyword if you want to change a global variable inside a function."
      ]
    },
    {
      "cell_type": "code",
      "execution_count": null,
      "id": "7925cf36",
      "metadata": {
        "id": "7925cf36",
        "outputId": "9abfae8b-e266-45d7-a05a-0d3a0d10fac1"
      },
      "outputs": [
        {
          "name": "stdout",
          "output_type": "stream",
          "text": [
            "Python is fantastic\n"
          ]
        }
      ],
      "source": [
        "x = \"awesome\"\n",
        "\n",
        "def myfunc():\n",
        "  global x\n",
        "  x = \"fantastic\"\n",
        "\n",
        "myfunc()\n",
        "\n",
        "print(\"Python is \" + x)"
      ]
    },
    {
      "cell_type": "markdown",
      "id": "b7b7d4b8",
      "metadata": {
        "id": "b7b7d4b8"
      },
      "source": [
        "#### 1.4 Local Variable"
      ]
    },
    {
      "cell_type": "raw",
      "id": "6f45bc5a",
      "metadata": {
        "id": "6f45bc5a"
      },
      "source": [
        "Local variables in python are those variables that are declared inside the function\n",
        "It cannot be accessed anywhere outside the function"
      ]
    },
    {
      "cell_type": "markdown",
      "id": "6a86b65a",
      "metadata": {
        "id": "6a86b65a"
      },
      "source": [
        "### 2. Python Data Types"
      ]
    },
    {
      "cell_type": "raw",
      "id": "cfb96c0b",
      "metadata": {
        "id": "cfb96c0b"
      },
      "source": [
        "In programming, data type is an important concept.\n",
        "Variables can store data of different types, and different types can do different things.\n",
        "You can get the data type of any object by using the type() function.\n",
        "Python has the following data types built-in by default, in these categories:"
      ]
    },
    {
      "cell_type": "raw",
      "id": "5db92fda",
      "metadata": {
        "id": "5db92fda"
      },
      "source": [
        "Text Type:\tstr\n",
        "Numeric Types:\tint, float, complex\n",
        "Sequence Types:\tlist, tuple, range\n",
        "Mapping Type:\tdict\n",
        "Set Types:\tset, frozenset\n",
        "Boolean Type:\tbool\n",
        "Binary Types:\tbytes, bytearray, memoryview\n",
        "None Type:\tNoneType"
      ]
    },
    {
      "cell_type": "markdown",
      "source": [
        "![image.png](data:image/png;base64,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)"
      ],
      "metadata": {
        "id": "Vzj-_z_qiV45"
      },
      "id": "Vzj-_z_qiV45"
    },
    {
      "cell_type": "markdown",
      "id": "6a4810cc",
      "metadata": {
        "id": "6a4810cc"
      },
      "source": [
        "### 3. Python Numbers"
      ]
    },
    {
      "cell_type": "raw",
      "id": "1d886c8a",
      "metadata": {
        "id": "1d886c8a"
      },
      "source": [
        "There are three numeric types in Python:\n",
        "\n",
        "int\n",
        "float\n",
        "complex\n",
        "\n",
        "Variables of numeric types are created when you assign a value to them:"
      ]
    },
    {
      "cell_type": "code",
      "execution_count": null,
      "id": "b11c3858",
      "metadata": {
        "id": "b11c3858"
      },
      "outputs": [],
      "source": [
        "x = 1    # int\n",
        "y = 2.8  # float\n",
        "z = 1j   # complex"
      ]
    },
    {
      "cell_type": "markdown",
      "id": "3e68a7d9",
      "metadata": {
        "id": "3e68a7d9"
      },
      "source": [
        "#### 3.1 Type Conversion/Casting"
      ]
    },
    {
      "cell_type": "raw",
      "id": "5469c8d3",
      "metadata": {
        "id": "5469c8d3"
      },
      "source": [
        "You can convert from one type to another with the int(), float(), and complex() methods:"
      ]
    },
    {
      "cell_type": "code",
      "execution_count": null,
      "id": "ba43a3ce",
      "metadata": {
        "id": "ba43a3ce",
        "outputId": "f5d09a32-89c1-4df3-8566-4cf2219847c5"
      },
      "outputs": [
        {
          "name": "stdout",
          "output_type": "stream",
          "text": [
            "1.0\n",
            "2\n",
            "(1+0j)\n",
            "<class 'float'>\n",
            "<class 'int'>\n",
            "<class 'complex'>\n"
          ]
        }
      ],
      "source": [
        "x = 1    # int\n",
        "y = 2.8  # float\n",
        "z = 1j   # complex\n",
        "\n",
        "#convert from int to float:\n",
        "a = float(x)\n",
        "\n",
        "#convert from float to int:\n",
        "b = int(y)\n",
        "\n",
        "#convert from int to complex:\n",
        "c = complex(x)\n",
        "\n",
        "print(a)\n",
        "print(b)\n",
        "print(c)\n",
        "\n",
        "print(type(a))\n",
        "print(type(b))\n",
        "print(type(c))"
      ]
    },
    {
      "cell_type": "markdown",
      "id": "2b2e7152",
      "metadata": {
        "id": "2b2e7152"
      },
      "source": [
        "#### 3.2 Random Number"
      ]
    },
    {
      "cell_type": "raw",
      "id": "4c076d04",
      "metadata": {
        "id": "4c076d04"
      },
      "source": [
        "Python does not have a random() function to make a random number, but Python has a built-in module called random that can be used to make random numbers:"
      ]
    },
    {
      "cell_type": "code",
      "execution_count": null,
      "id": "0d3d6dd8",
      "metadata": {
        "id": "0d3d6dd8",
        "outputId": "d4eda244-e079-45eb-e179-8457ebf21880"
      },
      "outputs": [
        {
          "name": "stdout",
          "output_type": "stream",
          "text": [
            "8\n"
          ]
        }
      ],
      "source": [
        "import random\n",
        "print(random.randrange(1, 10))"
      ]
    },
    {
      "cell_type": "markdown",
      "id": "af58a285",
      "metadata": {
        "id": "af58a285"
      },
      "source": [
        "### 4. Python Casting"
      ]
    },
    {
      "cell_type": "raw",
      "id": "3f26b998",
      "metadata": {
        "id": "3f26b998"
      },
      "source": [
        "There may be times when you want to specify a type on to a variable. This can be done with casting. Python is an object-orientated language, and as such it uses classes to define data types, including its primitive types.\n",
        "Casting in python is therefore done using constructor functions:\n",
        "\n",
        "int() - constructs an integer number from an integer literal, a float literal (by removing all decimals), or a string literal (providing the string represents a whole number)\n",
        "float() - constructs a float number from an integer literal, a float literal or a string literal (providing the string represents a float or an integer)\n",
        "str() - constructs a string from a wide variety of data types, including strings, integer literals and float literals"
      ]
    },
    {
      "cell_type": "code",
      "execution_count": null,
      "id": "aaad30b5",
      "metadata": {
        "id": "aaad30b5"
      },
      "outputs": [],
      "source": [
        "# Int\n",
        "x = int(1)   # x will be 1\n",
        "y = int(2.8) # y will be 2\n",
        "z = int(\"3\") # z will be 3\n",
        "\n",
        "# float\n",
        "x = float(1)     # x will be 1.0\n",
        "y = float(2.8)   # y will be 2.8\n",
        "z = float(\"3\")   # z will be 3.0\n",
        "w = float(\"4.2\") # w will be 4.2\n",
        "\n",
        "#Strings\n",
        "x = str(\"s1\") # x will be 's1'\n",
        "y = str(2)    # y will be '2'\n",
        "z = str(3.0)  # z will be '3.0'"
      ]
    },
    {
      "cell_type": "markdown",
      "id": "4c946c2c",
      "metadata": {
        "id": "4c946c2c"
      },
      "source": [
        "### 5. Python Strings"
      ]
    },
    {
      "cell_type": "raw",
      "id": "b4c2e883",
      "metadata": {
        "id": "b4c2e883"
      },
      "source": [
        "Strings in python are surrounded by either single quotation marks, or double quotation marks.\n",
        "\n",
        "'hello' is the same as \"hello\".\n",
        "\n",
        "You can display a string literal with the print() function:\n",
        "\n",
        "String is immutable, ordered, indexing can be possible, duplicates are allowed."
      ]
    },
    {
      "cell_type": "markdown",
      "id": "ec3f86f4",
      "metadata": {
        "id": "ec3f86f4"
      },
      "source": [
        "#### 5.1 Multiline Strings"
      ]
    },
    {
      "cell_type": "raw",
      "id": "a327d80b",
      "metadata": {
        "id": "a327d80b"
      },
      "source": [
        "You can assign a multiline string to a variable by using three quotes:\n",
        "    \n",
        "a = \"\"\"Lorem ipsum dolor sit amet,\n",
        "consectetur adipiscing elit,\n",
        "sed do eiusmod tempor incididunt\n",
        "ut labore et dolore magna aliqua.\"\"\"\n",
        "print(a)"
      ]
    },
    {
      "cell_type": "markdown",
      "id": "9d9fe013",
      "metadata": {
        "id": "9d9fe013"
      },
      "source": [
        "#### 5.2 Strings are Arrays"
      ]
    },
    {
      "cell_type": "code",
      "execution_count": null,
      "id": "c8b4dabc",
      "metadata": {
        "id": "c8b4dabc"
      },
      "outputs": [],
      "source": [
        "Like many other popular programming languages, strings in Python are arrays of bytes representing unicode characters.\n",
        "\n",
        "However, Python does not have a character data type, a single character is simply a string with a length of 1.\n",
        "\n",
        "Square brackets can be used to access elements of the string."
      ]
    },
    {
      "cell_type": "markdown",
      "id": "3cc07628",
      "metadata": {
        "id": "3cc07628"
      },
      "source": [
        "#### 5.3 String Length"
      ]
    },
    {
      "cell_type": "raw",
      "id": "4f84de12",
      "metadata": {
        "id": "4f84de12"
      },
      "source": [
        "To get the length of a string, use the len() function."
      ]
    },
    {
      "cell_type": "markdown",
      "id": "40bcb360",
      "metadata": {
        "id": "40bcb360"
      },
      "source": [
        "#### 5.4 Check String"
      ]
    },
    {
      "cell_type": "raw",
      "id": "341be728",
      "metadata": {
        "id": "341be728"
      },
      "source": [
        "To check if a certain phrase or character is present in a string, we can use the keyword in\n",
        "\n",
        "To check if a certain phrase or character is NOT present in a string, we can use the keyword not in."
      ]
    },
    {
      "cell_type": "code",
      "execution_count": null,
      "id": "5db3395b",
      "metadata": {
        "id": "5db3395b",
        "outputId": "ea286986-888b-4b9e-a460-73b87ced913e"
      },
      "outputs": [
        {
          "name": "stdout",
          "output_type": "stream",
          "text": [
            "True\n"
          ]
        }
      ],
      "source": [
        "txt = \"The best things in life are free!\"\n",
        "print(\"free\" in txt)"
      ]
    },
    {
      "cell_type": "code",
      "execution_count": null,
      "id": "0e76625e",
      "metadata": {
        "id": "0e76625e",
        "outputId": "0e4499cb-11df-4e6f-c1b6-6abdd4805fe1"
      },
      "outputs": [
        {
          "name": "stdout",
          "output_type": "stream",
          "text": [
            "True\n"
          ]
        }
      ],
      "source": [
        "txt = \"The best things in life are free!\"\n",
        "print(\"expensive\" not in txt)"
      ]
    },
    {
      "cell_type": "markdown",
      "id": "171b98c9",
      "metadata": {
        "id": "171b98c9"
      },
      "source": [
        "#### 5.5 Slicing Strings"
      ]
    },
    {
      "cell_type": "raw",
      "id": "98c7846c",
      "metadata": {
        "id": "98c7846c"
      },
      "source": [
        "slicing >> making parts, segments\n",
        "string slicing >> make the parts of some char. \n",
        "\n",
        "Syntax: \n",
        "    \n",
        "string[start_index(included):end_index(exclude)]\n",
        "\n",
        "By default Value  :\n",
        "start_index = 0\n",
        "end_index = len(string)\n",
        "step_size = 1"
      ]
    },
    {
      "cell_type": "raw",
      "id": "8cbfb092",
      "metadata": {
        "id": "8cbfb092"
      },
      "source": [
        "Data       ==  p  y  t  h  o  n\n",
        "index      ==  0  1  2  3  4  5\n",
        "neg. index == -6 -5 -4 -3 -2  -1"
      ]
    },
    {
      "cell_type": "markdown",
      "id": "0293eed3",
      "metadata": {
        "id": "0293eed3"
      },
      "source": [
        "#### 5.6 String Methods"
      ]
    },
    {
      "cell_type": "markdown",
      "source": [
        "![image.png](data:image/png;base64,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)"
      ],
      "metadata": {
        "id": "FqGZDrbKj4v2"
      },
      "id": "FqGZDrbKj4v2"
    },
    {
      "cell_type": "markdown",
      "id": "39961ebc",
      "metadata": {
        "id": "39961ebc"
      },
      "source": [
        "### 6. Python Booleans"
      ]
    },
    {
      "cell_type": "raw",
      "id": "e13c5c16",
      "metadata": {
        "id": "e13c5c16"
      },
      "source": [
        "Booleans represent one of two values: True or False.\n",
        "    \n",
        "Boolean Values\n",
        "In programming you often need to know if an expression is True or False.\n",
        "You can evaluate any expression in Python, and get one of two answers, True or False.\n",
        "When you compare two values, the expression is evaluated and Python returns the Boolean answer:"
      ]
    },
    {
      "cell_type": "code",
      "execution_count": null,
      "id": "fd27010d",
      "metadata": {
        "id": "fd27010d",
        "outputId": "0f5a659a-933e-4fe8-c8cd-c95b17641faa"
      },
      "outputs": [
        {
          "name": "stdout",
          "output_type": "stream",
          "text": [
            "True\n",
            "False\n",
            "False\n"
          ]
        }
      ],
      "source": [
        "print(10 > 9)\n",
        "print(10 == 9)\n",
        "print(10 < 9)"
      ]
    },
    {
      "cell_type": "code",
      "execution_count": null,
      "id": "a66393c0",
      "metadata": {
        "id": "a66393c0",
        "outputId": "b596764b-4d56-4e82-8c94-9bc3f9cd4add"
      },
      "outputs": [
        {
          "name": "stdout",
          "output_type": "stream",
          "text": [
            "b is not greater than a\n"
          ]
        }
      ],
      "source": [
        "a = 200\n",
        "b = 33\n",
        "\n",
        "if b > a:\n",
        "  print(\"b is greater than a\")\n",
        "else:\n",
        "  print(\"b is not greater than a\")"
      ]
    },
    {
      "cell_type": "markdown",
      "id": "19c46dc1",
      "metadata": {
        "id": "19c46dc1"
      },
      "source": [
        "#### 6.1 Evaluate Values and Variables"
      ]
    },
    {
      "cell_type": "raw",
      "id": "8b8ade35",
      "metadata": {
        "id": "8b8ade35"
      },
      "source": [
        "The bool() function allows you to evaluate any value, and give you True or False in return,"
      ]
    },
    {
      "cell_type": "code",
      "execution_count": null,
      "id": "aa663733",
      "metadata": {
        "id": "aa663733",
        "outputId": "17210de4-218b-4fd1-f259-f95ebb6b6312"
      },
      "outputs": [
        {
          "name": "stdout",
          "output_type": "stream",
          "text": [
            "True\n",
            "True\n"
          ]
        }
      ],
      "source": [
        "print(bool(\"Hello\"))\n",
        "print(bool(15))"
      ]
    },
    {
      "cell_type": "markdown",
      "id": "8db5d3aa",
      "metadata": {
        "id": "8db5d3aa"
      },
      "source": [
        "#### 6.2 Most Values are True"
      ]
    },
    {
      "cell_type": "raw",
      "id": "cb45ec55",
      "metadata": {
        "id": "cb45ec55"
      },
      "source": [
        "Almost any value is evaluated to True if it has some sort of content.\n",
        "\n",
        "Any string is True, except empty strings.\n",
        "\n",
        "Any number is True, except 0.\n",
        "\n",
        "Any list, tuple, set, and dictionary are True, except empty ones."
      ]
    },
    {
      "cell_type": "code",
      "execution_count": null,
      "id": "80a30fed",
      "metadata": {
        "id": "80a30fed",
        "outputId": "fd964e99-9d10-4833-e69a-f8cd244c68f6"
      },
      "outputs": [
        {
          "data": {
            "text/plain": [
              "True"
            ]
          },
          "execution_count": 15,
          "metadata": {},
          "output_type": "execute_result"
        }
      ],
      "source": [
        "bool(\"abc\")\n",
        "bool(123)\n",
        "bool([\"apple\", \"cherry\", \"banana\"])"
      ]
    },
    {
      "cell_type": "markdown",
      "id": "4bcccbb5",
      "metadata": {
        "id": "4bcccbb5"
      },
      "source": [
        "#### 6.3 Some Values are False"
      ]
    },
    {
      "cell_type": "raw",
      "id": "98346811",
      "metadata": {
        "id": "98346811"
      },
      "source": [
        "In fact, there are not many values that evaluate to False, except empty values, such as (), [], {}, \"\", the number 0, and the value None. And of course the value False evaluates to False."
      ]
    },
    {
      "cell_type": "code",
      "execution_count": null,
      "id": "f9e8671c",
      "metadata": {
        "id": "f9e8671c",
        "outputId": "9c647da8-e1dc-450b-dd57-6cd6bc08e1c2"
      },
      "outputs": [
        {
          "data": {
            "text/plain": [
              "False"
            ]
          },
          "execution_count": 16,
          "metadata": {},
          "output_type": "execute_result"
        }
      ],
      "source": [
        "bool(False)\n",
        "bool(None)\n",
        "bool(0)\n",
        "bool(\"\")\n",
        "bool(())\n",
        "bool([])\n",
        "bool({})"
      ]
    },
    {
      "cell_type": "raw",
      "id": "aa186b3d",
      "metadata": {
        "id": "aa186b3d"
      },
      "source": [
        "One more value, or object in this case, evaluates to False, and that is if you have an object that is made from a class with a __len__ function that returns 0 or False:"
      ]
    },
    {
      "cell_type": "code",
      "execution_count": null,
      "id": "246fd76f",
      "metadata": {
        "id": "246fd76f",
        "outputId": "90d9f97e-ebea-4548-8335-04edea8a3f87"
      },
      "outputs": [
        {
          "name": "stdout",
          "output_type": "stream",
          "text": [
            "False\n"
          ]
        }
      ],
      "source": [
        "class myclass():\n",
        "  def __len__(self):\n",
        "    return 0\n",
        "\n",
        "myobj = myclass()\n",
        "print(bool(myobj))"
      ]
    },
    {
      "cell_type": "markdown",
      "id": "dc4dea7d",
      "metadata": {
        "id": "dc4dea7d"
      },
      "source": [
        "#### 6.4 Functions can Return a Boolean"
      ]
    },
    {
      "cell_type": "code",
      "execution_count": null,
      "id": "5932c6cb",
      "metadata": {
        "id": "5932c6cb"
      },
      "outputs": [],
      "source": [
        "You can create functions that returns a Boolean Value:"
      ]
    },
    {
      "cell_type": "code",
      "execution_count": null,
      "id": "ceba0a84",
      "metadata": {
        "id": "ceba0a84",
        "outputId": "43198abd-31c3-44d0-b109-a442940be6ba"
      },
      "outputs": [
        {
          "name": "stdout",
          "output_type": "stream",
          "text": [
            "True\n"
          ]
        }
      ],
      "source": [
        "def myFunction() :\n",
        "  return True\n",
        "\n",
        "print(myFunction())"
      ]
    },
    {
      "cell_type": "code",
      "execution_count": null,
      "id": "36d18dca",
      "metadata": {
        "id": "36d18dca",
        "outputId": "5f960ad7-9570-4596-c960-8e4d5085a241"
      },
      "outputs": [
        {
          "name": "stdout",
          "output_type": "stream",
          "text": [
            "YES!\n"
          ]
        }
      ],
      "source": [
        "def myFunction() :\n",
        "  return True\n",
        "\n",
        "if myFunction():\n",
        "  print(\"YES!\")\n",
        "else:\n",
        "  print(\"NO!\")"
      ]
    },
    {
      "cell_type": "markdown",
      "id": "b532fef9",
      "metadata": {
        "id": "b532fef9"
      },
      "source": [
        "#### 6.5 isinstance()"
      ]
    },
    {
      "cell_type": "raw",
      "id": "627b0a34",
      "metadata": {
        "id": "627b0a34"
      },
      "source": [
        "Python also has many built-in functions that return a boolean value, like the isinstance() function, which can be used to determine if an object is of a certain data type:"
      ]
    },
    {
      "cell_type": "code",
      "execution_count": null,
      "id": "e75cdabd",
      "metadata": {
        "id": "e75cdabd",
        "outputId": "6431fe1b-0291-4dcf-9a3a-cbfb3c155ea9"
      },
      "outputs": [
        {
          "name": "stdout",
          "output_type": "stream",
          "text": [
            "True\n"
          ]
        }
      ],
      "source": [
        "x = 200\n",
        "print(isinstance(x, int))"
      ]
    },
    {
      "cell_type": "markdown",
      "id": "38cb783c",
      "metadata": {
        "id": "38cb783c"
      },
      "source": [
        "### 7. Python Operators"
      ]
    },
    {
      "cell_type": "raw",
      "id": "80183eb7",
      "metadata": {
        "id": "80183eb7"
      },
      "source": [
        "Operators are used to perform operations on variables and values.\n",
        "\n",
        "Python divides the operators in the following groups:\n",
        "\n",
        "Arithmetic operators\n",
        "Assignment operators\n",
        "Comparison operators\n",
        "Logical operators\n",
        "Identity operators\n",
        "Membership operators\n",
        "Bitwise operators"
      ]
    },
    {
      "cell_type": "markdown",
      "id": "e3d26e33",
      "metadata": {
        "id": "e3d26e33"
      },
      "source": [
        "#### 7.1 Arithmetic operators"
      ]
    },
    {
      "cell_type": "markdown",
      "source": [
        "![image.png](data:image/png;base64,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)"
      ],
      "metadata": {
        "id": "b1Yqm2sxlf3t"
      },
      "id": "b1Yqm2sxlf3t"
    },
    {
      "cell_type": "markdown",
      "id": "12cb15d2",
      "metadata": {
        "id": "12cb15d2"
      },
      "source": [
        "#### 7.2 Assignment Operators"
      ]
    },
    {
      "cell_type": "markdown",
      "source": [
        "![image.png](data:image/png;base64,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)"
      ],
      "metadata": {
        "id": "elDLaOdclrEB"
      },
      "id": "elDLaOdclrEB"
    },
    {
      "cell_type": "markdown",
      "id": "6c71f5a5",
      "metadata": {
        "id": "6c71f5a5"
      },
      "source": [
        "#### 7.3 Comparison Operators"
      ]
    },
    {
      "cell_type": "markdown",
      "source": [
        "![image.png](data:image/png;base64,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)"
      ],
      "metadata": {
        "id": "9JrlFbJBl56C"
      },
      "id": "9JrlFbJBl56C"
    },
    {
      "cell_type": "markdown",
      "id": "5d0c03f9",
      "metadata": {
        "id": "5d0c03f9"
      },
      "source": [
        "#### 7.4 Logical Operators"
      ]
    },
    {
      "cell_type": "markdown",
      "source": [
        "![image.png](data:image/png;base64,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)"
      ],
      "metadata": {
        "id": "2PwXiISemA-z"
      },
      "id": "2PwXiISemA-z"
    },
    {
      "cell_type": "markdown",
      "id": "f821de2a",
      "metadata": {
        "id": "f821de2a"
      },
      "source": [
        "#### 7.5 Identity Operators"
      ]
    },
    {
      "cell_type": "markdown",
      "source": [
        "![image.png](data:image/png;base64,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)"
      ],
      "metadata": {
        "id": "J5kFR7nRmJIr"
      },
      "id": "J5kFR7nRmJIr"
    },
    {
      "cell_type": "markdown",
      "id": "7f7e975b",
      "metadata": {
        "id": "7f7e975b"
      },
      "source": [
        "#### 7.6 Membership Operators"
      ]
    },
    {
      "cell_type": "markdown",
      "source": [
        "![image.png](data:image/png;base64,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)"
      ],
      "metadata": {
        "id": "JbmtSn14mQ8J"
      },
      "id": "JbmtSn14mQ8J"
    },
    {
      "cell_type": "markdown",
      "id": "2e48e339",
      "metadata": {
        "id": "2e48e339"
      },
      "source": [
        "#### 7.7 Bitwise Operators"
      ]
    },
    {
      "cell_type": "markdown",
      "source": [
        "![image.png](data:image/png;base64,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)"
      ],
      "metadata": {
        "id": "b2x2beSumaDq"
      },
      "id": "b2x2beSumaDq"
    },
    {
      "cell_type": "markdown",
      "id": "6d545978",
      "metadata": {
        "id": "6d545978"
      },
      "source": [
        "### 8. Python Lists"
      ]
    },
    {
      "cell_type": "raw",
      "id": "4fb68976",
      "metadata": {
        "id": "4fb68976"
      },
      "source": [
        "List items are ordered, mutable, hetrogenious data types allowed and allow duplicate values.\n",
        "List items are indexed, the first item has index [0], the last item has index [-1] etc.\n",
        "To determine how many items a list has, use the len() function:\n",
        "\n",
        "List items can be of any data type:\n",
        "list1 = [\"abc\", 34, True, 40, \"male\"]"
      ]
    },
    {
      "cell_type": "markdown",
      "id": "be107f2f",
      "metadata": {
        "id": "be107f2f"
      },
      "source": [
        "#### 8.1 list() Constructor"
      ]
    },
    {
      "cell_type": "raw",
      "id": "3572bae7",
      "metadata": {
        "id": "3572bae7"
      },
      "source": [
        "It is also possible to use the list() constructor when creating a new list."
      ]
    },
    {
      "cell_type": "markdown",
      "id": "36e4fa08",
      "metadata": {
        "id": "36e4fa08"
      },
      "source": [
        "#### 8.2 Collections (Arrays)"
      ]
    },
    {
      "cell_type": "raw",
      "id": "bb32891b",
      "metadata": {
        "id": "bb32891b"
      },
      "source": [
        "There are four collection data types in the Python programming language:\n",
        "\n",
        "List is a collection which is ordered and changeable. Allows duplicate members.\n",
        "Tuple is a collection which is ordered and unchangeable. Allows duplicate members.\n",
        "Set is a collection which is unordered, unchangeable*, and unindexed. No duplicate members.\n",
        "Dictionary is a collection which is ordered** and changeable. No duplicate members."
      ]
    },
    {
      "cell_type": "raw",
      "id": "b476e5cb",
      "metadata": {
        "id": "b476e5cb"
      },
      "source": [
        "*Set items are unchangeable, but you can remove and/or add items whenever you like.\n",
        "\n",
        "**As of Python version 3.7, dictionaries are ordered. In Python 3.6 and earlier, dictionaries are unordered."
      ]
    },
    {
      "cell_type": "markdown",
      "id": "4ef8e942",
      "metadata": {
        "id": "4ef8e942"
      },
      "source": [
        "#### 8.3 Access List Items/slicing/indexing"
      ]
    },
    {
      "cell_type": "raw",
      "id": "bb18988e",
      "metadata": {
        "id": "bb18988e"
      },
      "source": [
        "slicing >> making parts, segments\n",
        "string slicing >> make the parts of some char. \n",
        "\n",
        "Syntax: \n",
        "    \n",
        "string[start_index(included):end_index(exclude)]\n",
        "\n",
        "By default Value  :\n",
        "start_index = 0\n",
        "end_index = len(string)\n",
        "step_size = 1"
      ]
    },
    {
      "cell_type": "raw",
      "id": "f6e85c7d",
      "metadata": {
        "id": "f6e85c7d"
      },
      "source": [
        "Data       ==  p  y  t  h  o  n\n",
        "index      ==  0  1  2  3  4  5\n",
        "neg. index == -6 -5 -4 -3 -2  -1"
      ]
    },
    {
      "cell_type": "markdown",
      "id": "4d616a35",
      "metadata": {
        "id": "4d616a35"
      },
      "source": [
        "#### 8.4 Change Item Value"
      ]
    },
    {
      "cell_type": "raw",
      "id": "df9e1237",
      "metadata": {
        "id": "df9e1237"
      },
      "source": [
        "To change the value of a specific item, refer to the index number:"
      ]
    },
    {
      "cell_type": "code",
      "execution_count": null,
      "id": "356ba6ab",
      "metadata": {
        "id": "356ba6ab",
        "outputId": "fb86cf81-ca6e-41a2-ac3f-73dc14dee76f"
      },
      "outputs": [
        {
          "name": "stdout",
          "output_type": "stream",
          "text": [
            "['apple', 'blackcurrant', 'cherry']\n"
          ]
        }
      ],
      "source": [
        "thislist = [\"apple\", \"banana\", \"cherry\"]\n",
        "thislist[1] = \"blackcurrant\"\n",
        "print(thislist)"
      ]
    },
    {
      "cell_type": "raw",
      "id": "f0eced02",
      "metadata": {
        "id": "f0eced02"
      },
      "source": [
        "To change the value of items within a specific range, define a list with the new values, and refer to the range of index numbers where you want to insert the new values:"
      ]
    },
    {
      "cell_type": "code",
      "execution_count": null,
      "id": "9ffa54cc",
      "metadata": {
        "id": "9ffa54cc"
      },
      "outputs": [],
      "source": [
        "thislist = [\"apple\", \"banana\", \"cherry\", \"orange\", \"kiwi\", \"mango\"]\n",
        "thislist[1:3] = [\"blackcurrant\", \"watermelon\"]\n",
        "print(thislist)"
      ]
    },
    {
      "cell_type": "markdown",
      "id": "83036e1b",
      "metadata": {
        "id": "83036e1b"
      },
      "source": [
        "#### 8.5 Remove List Items"
      ]
    },
    {
      "cell_type": "raw",
      "id": "c27d4489",
      "metadata": {
        "id": "c27d4489"
      },
      "source": [
        "The remove() method removes the specified item.\n",
        "The pop() method removes the specified index.\n",
        "The clear() method empties the list.\n",
        "The del keyword can also delete the list completely."
      ]
    },
    {
      "cell_type": "markdown",
      "id": "64048963",
      "metadata": {
        "id": "64048963"
      },
      "source": [
        "#### 8.6 List Comprehension"
      ]
    },
    {
      "cell_type": "raw",
      "id": "39ca049d",
      "metadata": {
        "id": "39ca049d"
      },
      "source": [
        "Syntax\n",
        "newlist = [expression for item in iterable if condition == True]"
      ]
    },
    {
      "cell_type": "raw",
      "id": "a6daeae4",
      "metadata": {
        "id": "a6daeae4"
      },
      "source": [
        "List comprehension offers a shorter syntax when you want to create a new list based on the values of an existing list."
      ]
    },
    {
      "cell_type": "markdown",
      "id": "4ed6b6e4",
      "metadata": {
        "id": "4ed6b6e4"
      },
      "source": [
        "#### 8.7 List Methods"
      ]
    },
    {
      "cell_type": "markdown",
      "source": [
        "![image.png](data:image/png;base64,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)"
      ],
      "metadata": {
        "id": "Qcwf3qqcoMP0"
      },
      "id": "Qcwf3qqcoMP0"
    },
    {
      "cell_type": "markdown",
      "id": "558597a0",
      "metadata": {
        "id": "558597a0"
      },
      "source": [
        "#### 8.8 Customize Sort Function"
      ]
    },
    {
      "cell_type": "code",
      "execution_count": null,
      "id": "758536ee",
      "metadata": {
        "id": "758536ee",
        "outputId": "eedda2c1-109f-4781-9bf7-aa405ed57d8d"
      },
      "outputs": [
        {
          "name": "stdout",
          "output_type": "stream",
          "text": [
            "[50, 65, 23, 82, 100]\n"
          ]
        }
      ],
      "source": [
        "def myfunc(n):\n",
        "  return abs(n - 50)\n",
        "\n",
        "thislist = [100, 50, 65, 82, 23]\n",
        "thislist.sort(key = myfunc)\n",
        "print(thislist)"
      ]
    },
    {
      "cell_type": "markdown",
      "id": "6d33ac68",
      "metadata": {
        "id": "6d33ac68"
      },
      "source": [
        "#### 8.9 Case Insensitive Sort"
      ]
    },
    {
      "cell_type": "raw",
      "id": "0b977e96",
      "metadata": {
        "id": "0b977e96"
      },
      "source": [
        "By default the sort() method is case sensitive, resulting in all capital letters being sorted before lower case letters"
      ]
    },
    {
      "cell_type": "code",
      "execution_count": null,
      "id": "abd1f323",
      "metadata": {
        "id": "abd1f323",
        "outputId": "d18fb45c-2164-47c2-8147-c8f5c61ae68f"
      },
      "outputs": [
        {
          "name": "stdout",
          "output_type": "stream",
          "text": [
            "['banana', 'cherry', 'Kiwi', 'Orange']\n"
          ]
        }
      ],
      "source": [
        "thislist = [\"banana\", \"Orange\", \"Kiwi\", \"cherry\"]\n",
        "thislist.sort(key = str.lower)\n",
        "print(thislist)"
      ]
    },
    {
      "cell_type": "markdown",
      "id": "d81e1fab",
      "metadata": {
        "id": "d81e1fab"
      },
      "source": [
        "### 9. Python Tuples"
      ]
    },
    {
      "cell_type": "raw",
      "id": "bbfaf3b8",
      "metadata": {
        "id": "bbfaf3b8"
      },
      "source": [
        "Tuples are used to store multiple items in a single variable.\n",
        "A tuple is a collection which is ordered,allow duplicate values and unchangeable.\n",
        "Tuples are written with round brackets.\n",
        "\n",
        "Tuple items can be of any data type\n",
        "tuple1 = (\"abc\", 34, True, 40, \"male\")"
      ]
    },
    {
      "cell_type": "markdown",
      "id": "545921da",
      "metadata": {
        "id": "545921da"
      },
      "source": [
        "#### 9.1 Create Tuple With One Item"
      ]
    },
    {
      "cell_type": "raw",
      "id": "f8affe54",
      "metadata": {
        "id": "f8affe54"
      },
      "source": [
        "To create a tuple with only one item, you have to add a comma after the item, otherwise Python will not recognize it as a tuple."
      ]
    },
    {
      "cell_type": "code",
      "execution_count": null,
      "id": "490b9aaa",
      "metadata": {
        "id": "490b9aaa",
        "outputId": "ef8fb8c4-52e6-4d55-c608-fd20125f0c83"
      },
      "outputs": [
        {
          "name": "stdout",
          "output_type": "stream",
          "text": [
            "<class 'tuple'>\n"
          ]
        }
      ],
      "source": [
        "thistuple = (\"apple\",)\n",
        "print(type(thistuple))"
      ]
    },
    {
      "cell_type": "markdown",
      "id": "c4c022c2",
      "metadata": {
        "id": "c4c022c2"
      },
      "source": [
        "#### 9.2 The tuple() Constructor"
      ]
    },
    {
      "cell_type": "raw",
      "id": "aeb7316e",
      "metadata": {
        "id": "aeb7316e"
      },
      "source": [
        "It is also possible to use the tuple() constructor to make a tuple."
      ]
    },
    {
      "cell_type": "markdown",
      "id": "2ea9b1b5",
      "metadata": {
        "id": "2ea9b1b5"
      },
      "source": [
        "#### 9.3 Access Tuple Items/slicling/indexing"
      ]
    },
    {
      "cell_type": "raw",
      "id": "7eced542",
      "metadata": {
        "id": "7eced542"
      },
      "source": [
        "slicing >> making parts, segments\n",
        "string slicing >> make the parts of some char. \n",
        "\n",
        "Syntax: \n",
        "    \n",
        "string[start_index(included):end_index(exclude)]\n",
        "\n",
        "By default Value  :\n",
        "start_index = 0\n",
        "end_index = len(string)\n",
        "step_size = 1"
      ]
    },
    {
      "cell_type": "raw",
      "id": "b47f7ea9",
      "metadata": {
        "id": "b47f7ea9"
      },
      "source": [
        "Data       ==  p  y  t  h  o  n\n",
        "index      ==  0  1  2  3  4  5\n",
        "neg. index == -6 -5 -4 -3 -2  -1"
      ]
    },
    {
      "cell_type": "markdown",
      "id": "1a51e461",
      "metadata": {
        "id": "1a51e461"
      },
      "source": [
        "#### 9.4 Change Tuple Values"
      ]
    },
    {
      "cell_type": "raw",
      "id": "83807ec5",
      "metadata": {
        "id": "83807ec5"
      },
      "source": [
        "Once a tuple is created, you cannot change its values. Tuples are unchangeable, or immutable as it also is called.\n",
        "\n",
        "But there is a workaround. You can convert the tuple into a list, change the list, and convert the list back into a tuple."
      ]
    },
    {
      "cell_type": "code",
      "execution_count": null,
      "id": "54f9d0d6",
      "metadata": {
        "id": "54f9d0d6",
        "outputId": "8d6eda71-38f2-4995-e84c-6d893a6a9329"
      },
      "outputs": [
        {
          "name": "stdout",
          "output_type": "stream",
          "text": [
            "apple\n",
            "banana\n",
            "cherry\n"
          ]
        }
      ],
      "source": [
        "fruits = (\"apple\", \"banana\", \"cherry\")\n",
        "\n",
        "(green, yellow, red) = fruits\n",
        "\n",
        "print(green)\n",
        "print(yellow)\n",
        "print(red)"
      ]
    },
    {
      "cell_type": "markdown",
      "id": "7ebb45dc",
      "metadata": {
        "id": "7ebb45dc"
      },
      "source": [
        "#### 9.5 Tuple Methods"
      ]
    },
    {
      "cell_type": "markdown",
      "source": [
        "![image.png](data:image/png;base64,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)"
      ],
      "metadata": {
        "id": "Gl1EG6e1pjrh"
      },
      "id": "Gl1EG6e1pjrh"
    },
    {
      "cell_type": "markdown",
      "id": "f9a53ba5",
      "metadata": {
        "id": "f9a53ba5"
      },
      "source": [
        "### 10. Python Sets"
      ]
    },
    {
      "cell_type": "raw",
      "id": "67d63125",
      "metadata": {
        "id": "67d63125"
      },
      "source": [
        "A set is a collection which is unordered, unchangeable*, unindexed and Duplicates Not Allowed\n",
        "Sets are written with curly brackets\n",
        "Once a set is created, you cannot change its items, but you can remove items and add new items.\n",
        "\n",
        "A set can contain different data types\n",
        "set1 = {\"abc\", 34, True, 40, \"male\"}"
      ]
    },
    {
      "cell_type": "markdown",
      "id": "6b1c0879",
      "metadata": {
        "id": "6b1c0879"
      },
      "source": [
        "#### 10.1 The set() Constructor"
      ]
    },
    {
      "cell_type": "code",
      "execution_count": null,
      "id": "7b7eb5ee",
      "metadata": {
        "id": "7b7eb5ee"
      },
      "outputs": [],
      "source": [
        "It is also possible to use the set() constructor to make a set."
      ]
    },
    {
      "cell_type": "markdown",
      "id": "a27e8480",
      "metadata": {
        "id": "a27e8480"
      },
      "source": [
        "#### 10.2 Access Set Items"
      ]
    },
    {
      "cell_type": "raw",
      "id": "ce1b5faa",
      "metadata": {
        "id": "ce1b5faa"
      },
      "source": [
        "You cannot access items in a set by referring to an index or a key.\n",
        "But you can loop through the set items using a for loop, or ask if a specified value is present in a set, by using the in keyword."
      ]
    },
    {
      "cell_type": "raw",
      "id": "c8070528",
      "metadata": {
        "id": "c8070528"
      },
      "source": [
        "Method\tDescription\n",
        "add()\tAdds an element to the set\n",
        "clear()\tRemoves all the elements from the set\n",
        "copy()\tReturns a copy of the set\n",
        "difference()\tReturns a set containing the difference between two or more sets\n",
        "difference_update()\tRemoves the items in this set that are also included in another, specified set\n",
        "discard()\tRemove the specified item\n",
        "intersection()\tReturns a set, that is the intersection of two other sets\n",
        "intersection_update()\tRemoves the items in this set that are not present in other, specified set(s)\n",
        "isdisjoint()\tReturns whether two sets have a intersection or not\n",
        "issubset()\tReturns whether another set contains this set or not\n",
        "issuperset()\tReturns whether this set contains another set or not\n",
        "pop()\tRemoves an element from the set\n",
        "remove()\tRemoves the specified element\n",
        "symmetric_difference()\tReturns a set with the symmetric differences of two sets\n",
        "symmetric_difference_update()\tinserts the symmetric differences from this set and another\n",
        "union()\tReturn a set containing the union of sets\n",
        "update()\tUpdate the set with the union of this set and others"
      ]
    },
    {
      "cell_type": "markdown",
      "source": [
        "#### 10.3 Set Methods"
      ],
      "metadata": {
        "id": "iSpvMdrfqDYY"
      },
      "id": "iSpvMdrfqDYY"
    },
    {
      "cell_type": "markdown",
      "source": [
        "![image.png](data:image/png;base64,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)"
      ],
      "metadata": {
        "id": "Hw64ZqYEqM-n"
      },
      "id": "Hw64ZqYEqM-n"
    },
    {
      "cell_type": "markdown",
      "id": "930836bc",
      "metadata": {
        "id": "930836bc"
      },
      "source": [
        "### 11. Python Dictionaries"
      ]
    },
    {
      "cell_type": "code",
      "execution_count": null,
      "id": "3d3b0555",
      "metadata": {
        "id": "3d3b0555"
      },
      "outputs": [],
      "source": [
        "Dictionary items are ordered, changeable, and does not allow duplicates.\n",
        "Dictionary items are presented in key:value pairs, and can be referred to by using the key name.\n",
        "Dictionaries are written with curly brackets.\n",
        "\n",
        "The keys in dictionary items can be of immuatble data type only\n",
        "The values in dictionary items can be of any data type:"
      ]
    },
    {
      "cell_type": "markdown",
      "id": "4ffa5935",
      "metadata": {
        "id": "4ffa5935"
      },
      "source": [
        "#### 11.1 Access Dictionary Items"
      ]
    },
    {
      "cell_type": "raw",
      "id": "c79efb53",
      "metadata": {
        "id": "c79efb53"
      },
      "source": [
        "You can access the items of a dictionary by referring to its key name, inside square brackets\n",
        "There is also a method called get() that will give you the same result"
      ]
    },
    {
      "cell_type": "markdown",
      "id": "b9d18ffc",
      "metadata": {
        "id": "b9d18ffc"
      },
      "source": [
        "#### 11.2 Dictionary Methods"
      ]
    },
    {
      "cell_type": "markdown",
      "source": [
        "![image.png](data:image/png;base64,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)"
      ],
      "metadata": {
        "id": "syLGCjjmq9Bp"
      },
      "id": "syLGCjjmq9Bp"
    },
    {
      "cell_type": "markdown",
      "id": "5a75416c",
      "metadata": {
        "id": "5a75416c"
      },
      "source": [
        "### 11. Python Conditions and If statements"
      ]
    },
    {
      "cell_type": "raw",
      "id": "0cdd53c9",
      "metadata": {
        "id": "0cdd53c9"
      },
      "source": [
        "Python supports the usual logical conditions from mathematics:\n",
        "\n",
        "Equals: a == b\n",
        "Not Equals: a != b\n",
        "Less than: a < b\n",
        "Less than or equal to: a <= b\n",
        "Greater than: a > b\n",
        "Greater than or equal to: a >= b\n",
        "\n",
        "These conditions can be used in several ways, most commonly in \"if statements\" and loops.\n",
        "An \"if statement\" is written by using the if keyword.\n",
        "\n",
        "Elif\n",
        "The elif keyword is pythons way of saying \"if the previous conditions were not true, then try this condition\".\n",
        "\n",
        "Else\n",
        "The else keyword catches anything which isn't caught by the preceding conditions."
      ]
    },
    {
      "cell_type": "markdown",
      "id": "391f16b6",
      "metadata": {
        "id": "391f16b6"
      },
      "source": [
        "#### 11.1 Short Hand If"
      ]
    },
    {
      "cell_type": "raw",
      "id": "db91b194",
      "metadata": {
        "id": "db91b194"
      },
      "source": [
        "If you have only one statement to execute, you can put it on the same line as the if statement."
      ]
    },
    {
      "cell_type": "code",
      "execution_count": null,
      "id": "1a043834",
      "metadata": {
        "id": "1a043834",
        "outputId": "e09f849c-5417-4c59-e6ca-d5dac284a716"
      },
      "outputs": [
        {
          "name": "stdout",
          "output_type": "stream",
          "text": [
            "a is greater than b\n"
          ]
        }
      ],
      "source": [
        "if a > b: print(\"a is greater than b\")"
      ]
    },
    {
      "cell_type": "markdown",
      "id": "a0a67831",
      "metadata": {
        "id": "a0a67831"
      },
      "source": [
        "#### 11.2 Short Hand If ... Else"
      ]
    },
    {
      "cell_type": "raw",
      "id": "59335eef",
      "metadata": {
        "id": "59335eef"
      },
      "source": [
        "If you have only one statement to execute, one for if, and one for else, you can put it all on the same line.\n",
        "\n",
        "This technique is known as Ternary Operators, or Conditional Expressions."
      ]
    },
    {
      "cell_type": "code",
      "execution_count": null,
      "id": "65db5d9a",
      "metadata": {
        "id": "65db5d9a",
        "outputId": "37fbe1be-c1e9-45dc-d9a8-ef4b71c4c721"
      },
      "outputs": [
        {
          "name": "stdout",
          "output_type": "stream",
          "text": [
            "B\n"
          ]
        }
      ],
      "source": [
        "a = 2\n",
        "b = 330\n",
        "print(\"A\") if a > b else print(\"B\")"
      ]
    },
    {
      "cell_type": "markdown",
      "id": "9d0c2083",
      "metadata": {
        "id": "9d0c2083"
      },
      "source": [
        "#### 11.3 The pass Statement"
      ]
    },
    {
      "cell_type": "raw",
      "id": "d712dfa4",
      "metadata": {
        "id": "d712dfa4"
      },
      "source": [
        "if statements cannot be empty, but if you want for some reason to have an if statement with no content, put in the pass statement to avoid getting an error."
      ]
    },
    {
      "cell_type": "code",
      "execution_count": null,
      "id": "e99a7030",
      "metadata": {
        "id": "e99a7030"
      },
      "outputs": [],
      "source": [
        "a = 33\n",
        "b = 200\n",
        "\n",
        "if b > a:\n",
        "  pass"
      ]
    },
    {
      "cell_type": "markdown",
      "id": "9d58c69a",
      "metadata": {
        "id": "9d58c69a"
      },
      "source": [
        "### 12. The while Loop"
      ]
    },
    {
      "cell_type": "raw",
      "id": "67bcb781",
      "metadata": {
        "id": "67bcb781"
      },
      "source": [
        "Python has two primitive loop commands:\n",
        "\n",
        "while loops\n",
        "for loops"
      ]
    },
    {
      "cell_type": "raw",
      "id": "05eee1fb",
      "metadata": {
        "id": "05eee1fb"
      },
      "source": [
        "With the while loop we can execute a set of statements as long as a condition is true.\n",
        "Remember to increment i, or else the loop will continue forever"
      ]
    },
    {
      "cell_type": "code",
      "execution_count": null,
      "id": "ad924fc1",
      "metadata": {
        "id": "ad924fc1",
        "outputId": "08424bff-0479-48f4-e5d0-8dfccc06e7c2"
      },
      "outputs": [
        {
          "name": "stdout",
          "output_type": "stream",
          "text": [
            "1 2 3 4 5 "
          ]
        }
      ],
      "source": [
        "i = 1\n",
        "while i < 6:\n",
        "  print(i, end = ' ')\n",
        "  i += 1"
      ]
    },
    {
      "cell_type": "markdown",
      "id": "16576d12",
      "metadata": {
        "id": "16576d12"
      },
      "source": [
        "#### 12.1 The break Statement"
      ]
    },
    {
      "cell_type": "raw",
      "id": "cb635686",
      "metadata": {
        "id": "cb635686"
      },
      "source": [
        "With the break statement we can stop the loop even if the while condition is true:"
      ]
    },
    {
      "cell_type": "code",
      "execution_count": null,
      "id": "8ee6b45b",
      "metadata": {
        "id": "8ee6b45b",
        "outputId": "54193df6-cd8c-47ca-bf86-3967f34a4c1e"
      },
      "outputs": [
        {
          "name": "stdout",
          "output_type": "stream",
          "text": [
            "1 2 3 "
          ]
        }
      ],
      "source": [
        "i = 1\n",
        "while i < 6:\n",
        "  print(i, end = ' ')\n",
        "  if i == 3:\n",
        "    break\n",
        "  i += 1"
      ]
    },
    {
      "cell_type": "markdown",
      "id": "6807cdd3",
      "metadata": {
        "id": "6807cdd3"
      },
      "source": [
        "#### 12.2 The continue Statement"
      ]
    },
    {
      "cell_type": "raw",
      "id": "d4c2a980",
      "metadata": {
        "id": "d4c2a980"
      },
      "source": [
        "With the continue statement we can stop the current iteration, and continue with the next."
      ]
    },
    {
      "cell_type": "code",
      "execution_count": null,
      "id": "e84338fa",
      "metadata": {
        "id": "e84338fa",
        "outputId": "b590aaab-f60e-4805-9f0d-54914bceba51"
      },
      "outputs": [
        {
          "name": "stdout",
          "output_type": "stream",
          "text": [
            "1 2 4 5 6 "
          ]
        }
      ],
      "source": [
        "i = 0\n",
        "while i < 6:\n",
        "  i += 1\n",
        "  if i == 3:\n",
        "    continue\n",
        "  print(i, end = ' ')"
      ]
    },
    {
      "cell_type": "markdown",
      "id": "20b8e84a",
      "metadata": {
        "id": "20b8e84a"
      },
      "source": [
        "#### 13.3 The else Statement"
      ]
    },
    {
      "cell_type": "raw",
      "id": "e73d1859",
      "metadata": {
        "id": "e73d1859"
      },
      "source": [
        "With the else statement we can run a block of code once when the condition no longer is true."
      ]
    },
    {
      "cell_type": "code",
      "execution_count": null,
      "id": "01f5e5f3",
      "metadata": {
        "id": "01f5e5f3",
        "outputId": "dfb4ba11-c804-458d-b3d7-05274af7f81d"
      },
      "outputs": [
        {
          "name": "stdout",
          "output_type": "stream",
          "text": [
            "1 2 3 4 5 i is no longer less than 6\n"
          ]
        }
      ],
      "source": [
        "i = 1\n",
        "while i < 6:\n",
        "  print(i,end = ' ')\n",
        "  i += 1\n",
        "else:\n",
        "  print(\"i is no longer less than 6\")"
      ]
    },
    {
      "cell_type": "markdown",
      "id": "46c5a4e1",
      "metadata": {
        "id": "46c5a4e1"
      },
      "source": [
        "### 13. Python For Loops"
      ]
    },
    {
      "cell_type": "raw",
      "id": "c286047b",
      "metadata": {
        "id": "c286047b"
      },
      "source": [
        "A for loop is used for iterating over a sequence (that is either a list, a tuple, a dictionary, a set, or a string).\n",
        "With the for loop we can execute a set of statements, once for each item in a list, tuple, set etc."
      ]
    },
    {
      "cell_type": "code",
      "execution_count": null,
      "id": "74de558d",
      "metadata": {
        "id": "74de558d",
        "outputId": "4583eb57-f319-42ca-abc1-76451780bde8"
      },
      "outputs": [
        {
          "name": "stdout",
          "output_type": "stream",
          "text": [
            "apple banana cherry "
          ]
        }
      ],
      "source": [
        "fruits = [\"apple\", \"banana\", \"cherry\"]\n",
        "for x in fruits:\n",
        "  print(x, end = ' ')"
      ]
    },
    {
      "cell_type": "markdown",
      "id": "55ddbe88",
      "metadata": {
        "id": "55ddbe88"
      },
      "source": [
        "#### 13.1 The break Statement"
      ]
    },
    {
      "cell_type": "raw",
      "id": "77190a9e",
      "metadata": {
        "id": "77190a9e"
      },
      "source": [
        "With the break statement we can stop the loop before it has looped through all the items:"
      ]
    },
    {
      "cell_type": "code",
      "execution_count": null,
      "id": "3085c5b9",
      "metadata": {
        "id": "3085c5b9",
        "outputId": "2c5e89c6-9419-428a-cabf-4b1629a801be"
      },
      "outputs": [
        {
          "name": "stdout",
          "output_type": "stream",
          "text": [
            "apple banana "
          ]
        }
      ],
      "source": [
        "fruits = [\"apple\", \"banana\", \"cherry\"]\n",
        "for x in fruits:\n",
        "  print(x, end=' ')\n",
        "  if x == \"banana\":\n",
        "    break"
      ]
    },
    {
      "cell_type": "markdown",
      "id": "8e16ba6a",
      "metadata": {
        "id": "8e16ba6a"
      },
      "source": [
        "#### 13.2 The continue Statement"
      ]
    },
    {
      "cell_type": "raw",
      "id": "3c20a81c",
      "metadata": {
        "id": "3c20a81c"
      },
      "source": [
        "With the continue statement we can stop the current iteration of the loop, and continue with the next."
      ]
    },
    {
      "cell_type": "code",
      "execution_count": null,
      "id": "5887ee4a",
      "metadata": {
        "id": "5887ee4a",
        "outputId": "3f02933c-631e-42d6-cdf3-f681b12c05a3"
      },
      "outputs": [
        {
          "name": "stdout",
          "output_type": "stream",
          "text": [
            "apple cherry "
          ]
        }
      ],
      "source": [
        "fruits = [\"apple\", \"banana\", \"cherry\"]\n",
        "for x in fruits:\n",
        "  if x == \"banana\":\n",
        "    continue\n",
        "  print(x, end = ' ')"
      ]
    },
    {
      "cell_type": "markdown",
      "id": "8390fab1",
      "metadata": {
        "id": "8390fab1"
      },
      "source": [
        "#### 13.3 Else in For Loop"
      ]
    },
    {
      "cell_type": "raw",
      "id": "a7c6cc94",
      "metadata": {
        "id": "a7c6cc94"
      },
      "source": [
        "The else keyword in a for loop specifies a block of code to be executed when the loop is finished.\n",
        "The else block will NOT be executed if the loop is stopped by a break statement."
      ]
    },
    {
      "cell_type": "code",
      "execution_count": null,
      "id": "5911930b",
      "metadata": {
        "id": "5911930b",
        "outputId": "96d0accc-b732-40a1-8e45-a71a9d3ecf95"
      },
      "outputs": [
        {
          "name": "stdout",
          "output_type": "stream",
          "text": [
            "0 1 2 3 4 5 Finally finished!\n"
          ]
        }
      ],
      "source": [
        "for x in range(6):\n",
        "  print(x, end = ' ')\n",
        "else:\n",
        "  print(\"Finally finished!\")"
      ]
    },
    {
      "cell_type": "markdown",
      "id": "0d55c354",
      "metadata": {
        "id": "0d55c354"
      },
      "source": [
        "#### 13.4 The pass Statement"
      ]
    },
    {
      "cell_type": "raw",
      "id": "58a8d226",
      "metadata": {
        "id": "58a8d226"
      },
      "source": [
        "for loops cannot be empty, but if you for some reason have a for loop with no content, put in the pass statement to avoid getting an error."
      ]
    },
    {
      "cell_type": "code",
      "execution_count": null,
      "id": "88d9e9e8",
      "metadata": {
        "id": "88d9e9e8"
      },
      "outputs": [],
      "source": [
        "for x in [0, 1, 2]:\n",
        "  pass"
      ]
    },
    {
      "cell_type": "markdown",
      "id": "85e45420",
      "metadata": {
        "id": "85e45420"
      },
      "source": [
        "### 14. Python Functions"
      ]
    },
    {
      "cell_type": "raw",
      "id": "c7e35a07",
      "metadata": {
        "id": "c7e35a07"
      },
      "source": [
        "A function is a block of code which only runs when it is called.\n",
        "You can pass data, known as parameters, into a function.\n",
        "A function can return data as a result."
      ]
    },
    {
      "cell_type": "markdown",
      "id": "28d8416a",
      "metadata": {
        "id": "28d8416a"
      },
      "source": [
        "#### 14.1 Creating a Function"
      ]
    },
    {
      "cell_type": "raw",
      "id": "cdbe01a0",
      "metadata": {
        "id": "cdbe01a0"
      },
      "source": [
        "In Python a function is defined using the def keyword."
      ]
    },
    {
      "cell_type": "code",
      "execution_count": null,
      "id": "75d5f404",
      "metadata": {
        "id": "75d5f404"
      },
      "outputs": [],
      "source": [
        "def my_function():\n",
        "  print(\"Hello from a function\")"
      ]
    },
    {
      "cell_type": "markdown",
      "id": "edac234c",
      "metadata": {
        "id": "edac234c"
      },
      "source": [
        "#### 14.2 Calling a Function"
      ]
    },
    {
      "cell_type": "raw",
      "id": "25162c8b",
      "metadata": {
        "id": "25162c8b"
      },
      "source": [
        "To call a function, use the function name followed by parenthesis:"
      ]
    },
    {
      "cell_type": "code",
      "execution_count": null,
      "id": "d59ad836",
      "metadata": {
        "id": "d59ad836",
        "outputId": "7579a543-20c8-4156-c033-9d1f6a53365d"
      },
      "outputs": [
        {
          "name": "stdout",
          "output_type": "stream",
          "text": [
            "Hello from a function\n"
          ]
        }
      ],
      "source": [
        "def my_function():\n",
        "  print(\"Hello from a function\")\n",
        "\n",
        "my_function()"
      ]
    },
    {
      "cell_type": "markdown",
      "id": "0da2cce3",
      "metadata": {
        "id": "0da2cce3"
      },
      "source": [
        "#### 14.3 Arguments"
      ]
    },
    {
      "cell_type": "raw",
      "id": "97f6fb7b",
      "metadata": {
        "id": "97f6fb7b"
      },
      "source": [
        "Information can be passed into functions as arguments.\n",
        "\n",
        "Arguments are specified after the function name, inside the parentheses. You can add as many arguments as you want, just separate them with a comma.\n",
        "\n",
        "Arguments are often shortened to args in Python documentations."
      ]
    },
    {
      "cell_type": "markdown",
      "id": "9e596750",
      "metadata": {
        "id": "9e596750"
      },
      "source": [
        "#### 14.4 Parameters or Arguments?"
      ]
    },
    {
      "cell_type": "raw",
      "id": "e0b6684b",
      "metadata": {
        "id": "e0b6684b"
      },
      "source": [
        "From a function's perspective:\n",
        "\n",
        "A parameter is the variable listed inside the parentheses in the function definition.\n",
        "\n",
        "An argument is the value that is sent to the function when it is called."
      ]
    },
    {
      "cell_type": "markdown",
      "id": "97874bf7",
      "metadata": {
        "id": "97874bf7"
      },
      "source": [
        "#### 14.5 Types of Argunents"
      ]
    },
    {
      "cell_type": "raw",
      "id": "91bfc6ce",
      "metadata": {
        "id": "91bfc6ce"
      },
      "source": [
        "1. Positional Arguments\n",
        "2. Default Arguments\n",
        "3. Arbitrary Arguments\n",
        "4. Arbitrary Keyword Arguments"
      ]
    },
    {
      "cell_type": "markdown",
      "id": "c388b998",
      "metadata": {
        "id": "c388b998"
      },
      "source": [
        "#### 14.5.1 Default Parameter Value"
      ]
    },
    {
      "cell_type": "raw",
      "id": "216782c0",
      "metadata": {
        "id": "216782c0"
      },
      "source": [
        "If we call the function without argument, it uses the default value."
      ]
    },
    {
      "cell_type": "code",
      "execution_count": null,
      "id": "ba03483e",
      "metadata": {
        "id": "ba03483e",
        "outputId": "47102efe-a5d7-4c7a-e775-06462fb542e0"
      },
      "outputs": [
        {
          "name": "stdout",
          "output_type": "stream",
          "text": [
            "I am from Norway\n"
          ]
        }
      ],
      "source": [
        "def my_function(country = \"Norway\"):\n",
        "  print(\"I am from \" + country)\n",
        "\n",
        "my_function()"
      ]
    },
    {
      "cell_type": "markdown",
      "id": "939546a0",
      "metadata": {
        "id": "939546a0"
      },
      "source": [
        "#### 14.5.2 Arbitrary Arguments, *args"
      ]
    },
    {
      "cell_type": "raw",
      "id": "11831c63",
      "metadata": {
        "id": "11831c63"
      },
      "source": [
        "If you do not know how many arguments that will be passed into your function, add a * before the parameter name in the function definition.\n",
        "\n",
        "This way the function will receive a tuple of arguments, and can access the items accordingly.\n",
        "Arbitrary Arguments are often shortened to *args in Python documentations."
      ]
    },
    {
      "cell_type": "code",
      "execution_count": null,
      "id": "c3fcb9f4",
      "metadata": {
        "id": "c3fcb9f4",
        "outputId": "f19c8446-c86e-44f6-a63f-56e6a5236476"
      },
      "outputs": [
        {
          "name": "stdout",
          "output_type": "stream",
          "text": [
            "The youngest child is Linus\n"
          ]
        }
      ],
      "source": [
        "def my_function(*kids):\n",
        "  print(\"The youngest child is \" + kids[2])\n",
        "\n",
        "my_function(\"Emil\", \"Tobias\", \"Linus\")"
      ]
    },
    {
      "cell_type": "markdown",
      "id": "317aeced",
      "metadata": {
        "id": "317aeced"
      },
      "source": [
        "#### 14.5.3 Keyword Arguments"
      ]
    },
    {
      "cell_type": "raw",
      "id": "2f141180",
      "metadata": {
        "id": "2f141180"
      },
      "source": [
        "You can also send arguments with the key = value syntax.\n",
        "\n",
        "This way the order of the arguments does not matter.\n",
        "The phrase Keyword Arguments are often shortened to kwargs in Python documentations."
      ]
    },
    {
      "cell_type": "code",
      "execution_count": null,
      "id": "5145baea",
      "metadata": {
        "id": "5145baea",
        "outputId": "cb25a0e6-3859-43b9-dd54-ed50b1aaaf5a"
      },
      "outputs": [
        {
          "name": "stdout",
          "output_type": "stream",
          "text": [
            "The youngest child is Linus\n"
          ]
        }
      ],
      "source": [
        "def my_function(child3, child2, child1):\n",
        "  print(\"The youngest child is \" + child3)\n",
        "\n",
        "my_function(child1 = \"Emil\", child2 = \"Tobias\", child3 = \"Linus\")"
      ]
    },
    {
      "cell_type": "markdown",
      "id": "5301c8ee",
      "metadata": {
        "id": "5301c8ee"
      },
      "source": [
        "#### 14.5.4 Arbitrary Keyword Arguments, **kwargs"
      ]
    },
    {
      "cell_type": "raw",
      "id": "5325c666",
      "metadata": {
        "id": "5325c666"
      },
      "source": [
        "If you do not know how many keyword arguments that will be passed into your function, add two asterisk: ** before the parameter name in the function definition.\n",
        "\n",
        "This way the function will receive a dictionary of arguments, and can access the items accordingly\n",
        "Arbitrary Kword Arguments are often shortened to **kwargs in Python documentations."
      ]
    },
    {
      "cell_type": "code",
      "execution_count": null,
      "id": "c29ee883",
      "metadata": {
        "id": "c29ee883",
        "outputId": "e1e79409-47d9-43f2-c1c5-093fdfaa0d5b"
      },
      "outputs": [
        {
          "name": "stdout",
          "output_type": "stream",
          "text": [
            "His last name is Refsnes\n"
          ]
        }
      ],
      "source": [
        "def my_function(**kid):\n",
        "  print(\"His last name is \" + kid[\"lname\"])\n",
        "\n",
        "my_function(fname = \"Tobias\", lname = \"Refsnes\")"
      ]
    },
    {
      "cell_type": "markdown",
      "id": "8cc64dd3",
      "metadata": {
        "id": "8cc64dd3"
      },
      "source": [
        "#### 14.6 Return Values"
      ]
    },
    {
      "cell_type": "raw",
      "id": "85844412",
      "metadata": {
        "id": "85844412"
      },
      "source": [
        "To let a function return a value, use the return statement."
      ]
    },
    {
      "cell_type": "code",
      "execution_count": null,
      "id": "1578c884",
      "metadata": {
        "id": "1578c884",
        "outputId": "7777388c-195f-4d10-82d0-c84706310b41"
      },
      "outputs": [
        {
          "name": "stdout",
          "output_type": "stream",
          "text": [
            "15\n"
          ]
        }
      ],
      "source": [
        "def my_function(x):\n",
        "  return 5 * x\n",
        "\n",
        "print(my_function(3))"
      ]
    },
    {
      "cell_type": "markdown",
      "id": "f19c2eec",
      "metadata": {
        "id": "f19c2eec"
      },
      "source": [
        "#### 14.7 The pass Statement"
      ]
    },
    {
      "cell_type": "raw",
      "id": "27ea1742",
      "metadata": {
        "id": "27ea1742"
      },
      "source": [
        "function definitions cannot be empty, but if you for some reason have a function definition with no content, put in the pass statement to avoid getting an error."
      ]
    },
    {
      "cell_type": "code",
      "execution_count": null,
      "id": "9c423890",
      "metadata": {
        "id": "9c423890"
      },
      "outputs": [],
      "source": [
        "def myfunction():\n",
        "  pass"
      ]
    },
    {
      "cell_type": "markdown",
      "id": "5f95f654",
      "metadata": {
        "id": "5f95f654"
      },
      "source": [
        "#### 14.8 Built in funtions"
      ]
    },
    {
      "cell_type": "markdown",
      "source": [
        "![image.png](data:image/png;base64,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)"
      ],
      "metadata": {
        "id": "d_edhl59tf9v"
      },
      "id": "d_edhl59tf9v"
    },
    {
      "cell_type": "markdown",
      "id": "18d12495",
      "metadata": {
        "id": "18d12495"
      },
      "source": [
        "### 15. Recursion Function"
      ]
    },
    {
      "cell_type": "raw",
      "id": "4047e8c1",
      "metadata": {
        "id": "4047e8c1"
      },
      "source": [
        "Python also accepts function recursion, which means a defined function can call itself.\n",
        "\n",
        "Recursion is a common mathematical and programming concept. It means that a function calls itself. This has the benefit of meaning that you can loop through data to reach a result.\n",
        "\n",
        "The developer should be very careful with recursion as it can be quite easy to slip into writing a function which never terminates, or one that uses excess amounts of memory or processor power. However, when written correctly recursion can be a very efficient and mathematically-elegant approach to programming."
      ]
    },
    {
      "cell_type": "code",
      "execution_count": 5,
      "id": "2305eba4",
      "metadata": {
        "colab": {
          "base_uri": "https://localhost:8080/"
        },
        "id": "2305eba4",
        "outputId": "4c2c57a2-aaa4-4550-c659-4952b65519f0"
      },
      "outputs": [
        {
          "output_type": "execute_result",
          "data": {
            "text/plain": [
              "120"
            ]
          },
          "metadata": {},
          "execution_count": 5
        }
      ],
      "source": [
        "def factorial(no):\n",
        "    \"\"\"This is a recursive function \n",
        "    to find the factorial of a number\"\"\"\n",
        "    \n",
        "    if no == 1:\n",
        "        return 1\n",
        "    else:\n",
        "        return (no * factorial(no-1))  # 5 * 4 * 3 * 2 \n",
        "    \n",
        "factorial(5)"
      ]
    },
    {
      "cell_type": "markdown",
      "id": "39463374",
      "metadata": {
        "id": "39463374"
      },
      "source": [
        "#### 15.1 Advantages of recursion"
      ]
    },
    {
      "cell_type": "raw",
      "id": "f537ab95",
      "metadata": {
        "id": "f537ab95"
      },
      "source": [
        "1. recursive function make the code look clean and elegant \n",
        "2. using recursion we can break down omplex problem into simple sub-problems.\n",
        "3. Sequence generation is easier with recursion than using nested loops."
      ]
    },
    {
      "cell_type": "markdown",
      "id": "a9086574",
      "metadata": {
        "id": "a9086574"
      },
      "source": [
        "#### 15.2 Disadvantages of recursion"
      ]
    },
    {
      "cell_type": "code",
      "execution_count": null,
      "id": "d3dda219",
      "metadata": {
        "id": "d3dda219"
      },
      "outputs": [],
      "source": [
        "1. Recursive call are more expensive (inefficient) takes a lot memoery and time. \n",
        "2. Somtime logic behind is hard to follow.\n",
        "3. recursive function hard debug. "
      ]
    },
    {
      "cell_type": "markdown",
      "id": "7c90b4d8",
      "metadata": {
        "id": "7c90b4d8"
      },
      "source": [
        "### 16. Python Lambda"
      ]
    },
    {
      "cell_type": "raw",
      "id": "23215f1e",
      "metadata": {
        "id": "23215f1e"
      },
      "source": [
        "A lambda function is a small anonymous function.\n",
        "\n",
        "A lambda function can take any number of arguments, but can only have one expression."
      ]
    },
    {
      "cell_type": "raw",
      "id": "a4dced83",
      "metadata": {
        "id": "a4dced83"
      },
      "source": [
        "Syntax\n",
        "lambda arguments : expression"
      ]
    },
    {
      "cell_type": "code",
      "execution_count": null,
      "id": "b25d17df",
      "metadata": {
        "id": "b25d17df",
        "outputId": "a283dcfc-a297-454a-974a-3eee0ff19a5e"
      },
      "outputs": [
        {
          "name": "stdout",
          "output_type": "stream",
          "text": [
            "30\n"
          ]
        }
      ],
      "source": [
        "x = lambda a, b : a * b\n",
        "print(x(5, 6))"
      ]
    },
    {
      "cell_type": "markdown",
      "id": "cb05ccd5",
      "metadata": {
        "id": "cb05ccd5"
      },
      "source": [
        "#### 16.1 Why Use Lambda Functions?"
      ]
    },
    {
      "cell_type": "raw",
      "id": "0d6fd903",
      "metadata": {
        "id": "0d6fd903"
      },
      "source": [
        "The power of lambda is better shown when you use them as an anonymous function inside another function.\n",
        "\n",
        "Say you have a function definition that takes one argument, and that argument will be multiplied with an unknown number:\n",
        "\n",
        "Use lambda functions when an anonymous function is required for a short period of time."
      ]
    },
    {
      "cell_type": "markdown",
      "id": "12be69d1",
      "metadata": {
        "id": "12be69d1"
      },
      "source": [
        "### 17. Python Classes and Objects"
      ]
    },
    {
      "cell_type": "raw",
      "id": "22c96b8d",
      "metadata": {
        "id": "22c96b8d"
      },
      "source": [
        "Python is an object oriented programming language.\n",
        "\n",
        "Almost everything in Python is an object, with its properties and methods.\n",
        "\n",
        "A Class is like an object constructor, or a \"blueprint\" for creating objects.\n",
        "\n",
        "4 core concepts / pillars of oops \n",
        "\n",
        "1. Inheritance \n",
        "2. Encapsulation \n",
        "3. Abstraction \n",
        "4. Polymorphism"
      ]
    },
    {
      "cell_type": "markdown",
      "id": "f4d9833c",
      "metadata": {
        "id": "f4d9833c"
      },
      "source": [
        "#### 17.1 Create a Class"
      ]
    },
    {
      "cell_type": "raw",
      "id": "906d6597",
      "metadata": {
        "id": "906d6597"
      },
      "source": [
        "To create a class, use the keyword class"
      ]
    },
    {
      "cell_type": "code",
      "execution_count": null,
      "id": "b1bd750c",
      "metadata": {
        "id": "b1bd750c"
      },
      "outputs": [],
      "source": [
        "class MyClass:\n",
        "  x = 5"
      ]
    },
    {
      "cell_type": "markdown",
      "id": "bcd86809",
      "metadata": {
        "id": "bcd86809"
      },
      "source": [
        "#### 17.2 Create Object"
      ]
    },
    {
      "cell_type": "raw",
      "id": "2fd6bd3d",
      "metadata": {
        "id": "2fd6bd3d"
      },
      "source": [
        "Now we can use the class named MyClass to create objects"
      ]
    },
    {
      "cell_type": "code",
      "execution_count": null,
      "id": "53238caa",
      "metadata": {
        "id": "53238caa",
        "outputId": "cd04d58c-4c3e-4441-bd43-d7c6e0ad7987"
      },
      "outputs": [
        {
          "name": "stdout",
          "output_type": "stream",
          "text": [
            "5\n"
          ]
        }
      ],
      "source": [
        "p1 = MyClass()\n",
        "print(p1.x)"
      ]
    },
    {
      "cell_type": "markdown",
      "id": "308ac2fe",
      "metadata": {
        "id": "308ac2fe"
      },
      "source": [
        "#### 17.3 The __init__() Function"
      ]
    },
    {
      "cell_type": "raw",
      "id": "6fd61664",
      "metadata": {
        "id": "6fd61664"
      },
      "source": [
        "All classes have a function called __init__(), which is always executed when the class is being initiated.\n",
        "\n",
        "Use the __init__() function to assign values to object properties, or other operations that are necessary to do when the object is being created."
      ]
    },
    {
      "cell_type": "code",
      "execution_count": null,
      "id": "1c9f8d12",
      "metadata": {
        "id": "1c9f8d12",
        "outputId": "92a6b2bd-c186-4c91-8172-de71719adb98"
      },
      "outputs": [
        {
          "name": "stdout",
          "output_type": "stream",
          "text": [
            "John\n",
            "36\n"
          ]
        }
      ],
      "source": [
        "class Person:\n",
        "  def __init__(self, name, age):\n",
        "    self.name = name\n",
        "    self.age = age\n",
        "\n",
        "p1 = Person(\"John\", 36)\n",
        "\n",
        "print(p1.name)\n",
        "print(p1.age)"
      ]
    },
    {
      "cell_type": "markdown",
      "id": "589d781f",
      "metadata": {
        "id": "589d781f"
      },
      "source": [
        "#### 17.4 The __str__() Function"
      ]
    },
    {
      "cell_type": "raw",
      "id": "e1dd34b2",
      "metadata": {
        "id": "e1dd34b2"
      },
      "source": [
        "The __str__() function controls what should be returned when the class object is represented as a string.\n",
        "\n",
        "If the __str__() function is not set, the string representation of the object is returned:"
      ]
    },
    {
      "cell_type": "code",
      "execution_count": null,
      "id": "20e47eed",
      "metadata": {
        "id": "20e47eed",
        "outputId": "e2015f94-b55e-4db4-f2fe-4dc5d5f4ff03"
      },
      "outputs": [
        {
          "name": "stdout",
          "output_type": "stream",
          "text": [
            "<__main__.Person object at 0x00000225DF0E5F90>\n"
          ]
        }
      ],
      "source": [
        "# Without str fun\n",
        "\n",
        "class Person:\n",
        "  def __init__(self, name, age):\n",
        "    self.name = name\n",
        "    self.age = age\n",
        "\n",
        "p1 = Person(\"John\", 36)\n",
        "\n",
        "print(p1)"
      ]
    },
    {
      "cell_type": "code",
      "execution_count": null,
      "id": "9e7e7085",
      "metadata": {
        "id": "9e7e7085",
        "outputId": "d28afa83-79b9-41df-bc79-da80b68295a6"
      },
      "outputs": [
        {
          "name": "stdout",
          "output_type": "stream",
          "text": [
            "New class\n"
          ]
        }
      ],
      "source": [
        "# With str fun\n",
        "\n",
        "class Person:\n",
        "  def __init__(self, name, age):\n",
        "    self.name = name\n",
        "    self.age = age\n",
        "\n",
        "  def __str__(self):\n",
        "    return f\"New class\"\n",
        "\n",
        "p1 = Person(\"John\", 36)\n",
        "\n",
        "print(p1)"
      ]
    },
    {
      "cell_type": "markdown",
      "id": "bbc41918",
      "metadata": {
        "id": "bbc41918"
      },
      "source": [
        "#### 17.5 Object Methods"
      ]
    },
    {
      "cell_type": "raw",
      "id": "06f22945",
      "metadata": {
        "id": "06f22945"
      },
      "source": [
        "Objects can also contain methods. Methods in objects are functions that belong to the object.\n",
        "\n",
        "The self parameter is a reference to the current instance of the class, and is used to access variables that belong to the class."
      ]
    },
    {
      "cell_type": "code",
      "execution_count": null,
      "id": "b549467c",
      "metadata": {
        "id": "b549467c",
        "outputId": "339b6194-d2a0-4ffa-9c39-6bb21928ef93"
      },
      "outputs": [
        {
          "name": "stdout",
          "output_type": "stream",
          "text": [
            "Hello my name is John\n"
          ]
        }
      ],
      "source": [
        "class Person:\n",
        "  def __init__(self, name, age):\n",
        "    self.name = name\n",
        "    self.age = age\n",
        "\n",
        "  def myfunc(self):\n",
        "    print(\"Hello my name is \" + self.name)\n",
        "\n",
        "p1 = Person(\"John\", 36)\n",
        "p1.myfunc()"
      ]
    },
    {
      "cell_type": "markdown",
      "id": "c434a6ea",
      "metadata": {
        "id": "c434a6ea"
      },
      "source": [
        "#### 17.6 The self Parameter"
      ]
    },
    {
      "cell_type": "raw",
      "id": "8b466bd2",
      "metadata": {
        "id": "8b466bd2"
      },
      "source": [
        "The self parameter is a reference to the current instance of the class, and is used to access variables that belongs to the class.\n",
        "\n",
        "It does not have to be named self , you can call it whatever you like, but it has to be the first parameter of any function in the class:"
      ]
    },
    {
      "cell_type": "code",
      "execution_count": null,
      "id": "a8373257",
      "metadata": {
        "id": "a8373257",
        "outputId": "1358f50b-4b45-4a0f-b7a2-0debd55253d4"
      },
      "outputs": [
        {
          "name": "stdout",
          "output_type": "stream",
          "text": [
            "Hello my name is John\n"
          ]
        }
      ],
      "source": [
        "class Person:\n",
        "  def __init__(mysillyobject, name, age):\n",
        "    mysillyobject.name = name\n",
        "    mysillyobject.age = age\n",
        "\n",
        "  def myfunc(abc):\n",
        "    print(\"Hello my name is \" + abc.name)\n",
        "\n",
        "p1 = Person(\"John\", 36)\n",
        "p1.myfunc()"
      ]
    },
    {
      "cell_type": "markdown",
      "id": "5984a16c",
      "metadata": {
        "id": "5984a16c"
      },
      "source": [
        "#### 17.7 Modify Object Properties"
      ]
    },
    {
      "cell_type": "raw",
      "id": "894b0f11",
      "metadata": {
        "id": "894b0f11"
      },
      "source": [
        "You can modify properties on objects like this"
      ]
    },
    {
      "cell_type": "code",
      "execution_count": null,
      "id": "eadc4515",
      "metadata": {
        "id": "eadc4515"
      },
      "outputs": [],
      "source": [
        "p1.age = 40"
      ]
    },
    {
      "cell_type": "markdown",
      "id": "1b818609",
      "metadata": {
        "id": "1b818609"
      },
      "source": [
        "#### 17.8 Delete Object Properties"
      ]
    },
    {
      "cell_type": "raw",
      "id": "8bc24254",
      "metadata": {
        "id": "8bc24254"
      },
      "source": [
        "You can delete properties on objects by using the del keyword"
      ]
    },
    {
      "cell_type": "code",
      "execution_count": null,
      "id": "244f3521",
      "metadata": {
        "id": "244f3521"
      },
      "outputs": [],
      "source": [
        "del p1.age"
      ]
    },
    {
      "cell_type": "markdown",
      "id": "1111ba33",
      "metadata": {
        "id": "1111ba33"
      },
      "source": [
        "#### 17.9 Delete Objects"
      ]
    },
    {
      "cell_type": "raw",
      "id": "490a712d",
      "metadata": {
        "id": "490a712d"
      },
      "source": [
        "You can delete objects by using the del keyword:"
      ]
    },
    {
      "cell_type": "code",
      "execution_count": null,
      "id": "6b95192d",
      "metadata": {
        "id": "6b95192d"
      },
      "outputs": [],
      "source": [
        "del p1"
      ]
    },
    {
      "cell_type": "markdown",
      "id": "124bdd55",
      "metadata": {
        "id": "124bdd55"
      },
      "source": [
        "#### 17.10 The pass Statement"
      ]
    },
    {
      "cell_type": "raw",
      "id": "497d03ed",
      "metadata": {
        "id": "497d03ed"
      },
      "source": [
        "class definitions cannot be empty, but if you for some reason have a class definition with no content, put in the pass statement to avoid getting an error."
      ]
    },
    {
      "cell_type": "code",
      "execution_count": null,
      "id": "3a1b94cd",
      "metadata": {
        "id": "3a1b94cd"
      },
      "outputs": [],
      "source": [
        "class Person:\n",
        "  pass"
      ]
    },
    {
      "cell_type": "markdown",
      "id": "6bcbac18",
      "metadata": {
        "id": "6bcbac18"
      },
      "source": [
        "### 18. Python Inheritance"
      ]
    },
    {
      "cell_type": "raw",
      "id": "a16f5dc7",
      "metadata": {
        "id": "a16f5dc7"
      },
      "source": [
        "Inheritance allows us to define a class that inherits all the methods and properties from another class.\n",
        "\n",
        "Parent class is the class being inherited from, also called base class.\n",
        "\n",
        "Child class is the class that inherits from another class, also called derived class.\n",
        "\n",
        "Base Class >> Parent Class >> Super Class\n",
        "Derived Class >> Child Class >> Sub Class"
      ]
    },
    {
      "cell_type": "markdown",
      "id": "162a7225",
      "metadata": {
        "id": "162a7225"
      },
      "source": [
        "#### 18.1 Create a Parent Class"
      ]
    },
    {
      "cell_type": "code",
      "execution_count": null,
      "id": "d6fdbebd",
      "metadata": {
        "id": "d6fdbebd",
        "outputId": "db973449-271e-42b6-80f2-bc1cb524e29c"
      },
      "outputs": [
        {
          "name": "stdout",
          "output_type": "stream",
          "text": [
            "John Doe\n"
          ]
        }
      ],
      "source": [
        "class Person:\n",
        "  def __init__(self, fname, lname):\n",
        "    self.firstname = fname\n",
        "    self.lastname = lname\n",
        "\n",
        "  def printname(self):\n",
        "    print(self.firstname, self.lastname)\n",
        "\n",
        "#Use the Person class to create an object, and then execute the printname method:\n",
        "\n",
        "x = Person(\"John\", \"Doe\")\n",
        "x.printname()"
      ]
    },
    {
      "cell_type": "markdown",
      "id": "415a6f71",
      "metadata": {
        "id": "415a6f71"
      },
      "source": [
        "#### 18.2 Create a Child Class"
      ]
    },
    {
      "cell_type": "raw",
      "id": "bd6bda3c",
      "metadata": {
        "id": "bd6bda3c"
      },
      "source": [
        "To create a class that inherits the functionality from another class, send the parent class as a parameter when creating the child class"
      ]
    },
    {
      "cell_type": "code",
      "execution_count": null,
      "id": "1ecfd7a1",
      "metadata": {
        "id": "1ecfd7a1"
      },
      "outputs": [],
      "source": [
        "class Student(Person):\n",
        "  pass"
      ]
    },
    {
      "cell_type": "raw",
      "id": "ca5b30fa",
      "metadata": {
        "id": "ca5b30fa"
      },
      "source": [
        "Now the Student class has the same properties and methods as the Person class.\n",
        "Use the Student class to create an object, and then execute the printname method."
      ]
    },
    {
      "cell_type": "code",
      "execution_count": null,
      "id": "b0a7b881",
      "metadata": {
        "id": "b0a7b881",
        "outputId": "97bf254d-f3b8-479d-9db4-24caa367c625"
      },
      "outputs": [
        {
          "name": "stdout",
          "output_type": "stream",
          "text": [
            "Mike Olsen\n"
          ]
        }
      ],
      "source": [
        "x = Student(\"Mike\", \"Olsen\")\n",
        "x.printname()"
      ]
    },
    {
      "cell_type": "markdown",
      "id": "078451a3",
      "metadata": {
        "id": "078451a3"
      },
      "source": [
        "#### 18.3 Add the __init__() Function"
      ]
    },
    {
      "cell_type": "raw",
      "id": "21f2fb44",
      "metadata": {
        "id": "21f2fb44"
      },
      "source": [
        "So far we have created a child class that inherits the properties and methods from its parent.\n",
        "\n",
        "We want to add the __init__() function to the child class (instead of the pass keyword).\n",
        "\n",
        "When you add the __init__() function, the child class will no longer inherit the parent's __init__() function.\n",
        "\n",
        "The child's __init__() function overrides the inheritance of the parent's __init__() function."
      ]
    },
    {
      "cell_type": "raw",
      "id": "12330afe",
      "metadata": {
        "id": "12330afe"
      },
      "source": [
        "class Student(Person):\n",
        "    def __init__(self, fname, lname):\n",
        "        ## add properties etc"
      ]
    },
    {
      "cell_type": "raw",
      "id": "e4205826",
      "metadata": {
        "id": "e4205826"
      },
      "source": [
        "To keep the inheritance of the parent's __init__() function, add a call to the parent's __init__() function:"
      ]
    },
    {
      "cell_type": "code",
      "execution_count": null,
      "id": "d2feb942",
      "metadata": {
        "id": "d2feb942"
      },
      "outputs": [],
      "source": [
        "class Student(Person):\n",
        "  def __init__(self, fname, lname):\n",
        "    Person.__init__(self, fname, lname)"
      ]
    },
    {
      "cell_type": "raw",
      "id": "beb0cb22",
      "metadata": {
        "id": "beb0cb22"
      },
      "source": [
        "Now we have successfully added the __init__() function, and kept the inheritance of the parent class, and we are ready to add functionality in the __init__() function."
      ]
    },
    {
      "cell_type": "markdown",
      "id": "28d68fdf",
      "metadata": {
        "id": "28d68fdf"
      },
      "source": [
        "#### 18.4 Use the super() Function"
      ]
    },
    {
      "cell_type": "raw",
      "id": "323fae56",
      "metadata": {
        "id": "323fae56"
      },
      "source": [
        "Python also has a super() function that will make the child class inherit all the methods and properties from its parent"
      ]
    },
    {
      "cell_type": "code",
      "execution_count": null,
      "id": "a3d1a151",
      "metadata": {
        "id": "a3d1a151"
      },
      "outputs": [],
      "source": [
        "class Student(Person):\n",
        "  def __init__(self, fname, lname):\n",
        "    super().__init__(fname, lname)"
      ]
    },
    {
      "cell_type": "raw",
      "id": "d0f4a8a0",
      "metadata": {
        "id": "d0f4a8a0"
      },
      "source": [
        "By using the super() function, you do not have to use the name of the parent element, it will automatically inherit the methods and properties from its parent."
      ]
    },
    {
      "cell_type": "markdown",
      "id": "49930ae9",
      "metadata": {
        "id": "49930ae9"
      },
      "source": [
        "#### 18.5 Types of inheritance"
      ]
    },
    {
      "cell_type": "raw",
      "id": "7e088d04",
      "metadata": {
        "id": "7e088d04"
      },
      "source": [
        "1. single inheritance \n",
        "2. Multilevel inheritnace\n",
        "3. Multiple inheritance\n",
        "4. Hieriachical inheritance \n",
        "5. Hybrid inheritance "
      ]
    },
    {
      "cell_type": "markdown",
      "id": "7ba8f45c",
      "metadata": {
        "id": "7ba8f45c"
      },
      "source": [
        "![image.png](attachment:image.png)"
      ]
    },
    {
      "cell_type": "markdown",
      "id": "86cecd34",
      "metadata": {
        "id": "86cecd34"
      },
      "source": [
        "#### 18.5.1 single inheritance "
      ]
    },
    {
      "cell_type": "code",
      "execution_count": null,
      "id": "881749ce",
      "metadata": {
        "id": "881749ce"
      },
      "outputs": [],
      "source": [
        "class parentClass():\n",
        "    pass\n",
        "\n",
        "class childClass(parentClass):\n",
        "    pass"
      ]
    },
    {
      "cell_type": "markdown",
      "id": "173266fb",
      "metadata": {
        "id": "173266fb"
      },
      "source": [
        "#### 18.5.2. Multilevel inheritance"
      ]
    },
    {
      "cell_type": "code",
      "execution_count": null,
      "id": "1c9fe821",
      "metadata": {
        "id": "1c9fe821"
      },
      "outputs": [],
      "source": [
        "class grandFather():\n",
        "    pass\n",
        "\n",
        "class Father(grandFather):\n",
        "    pass\n",
        "\n",
        "class child(Father):\n",
        "    pass\n",
        "\n",
        "c1 = child()"
      ]
    },
    {
      "cell_type": "markdown",
      "id": "e472281a",
      "metadata": {
        "id": "e472281a"
      },
      "source": [
        "#### 18.5.3. Multiple inheritance"
      ]
    },
    {
      "cell_type": "code",
      "execution_count": null,
      "id": "8e06c0f7",
      "metadata": {
        "id": "8e06c0f7"
      },
      "outputs": [],
      "source": [
        "class father():\n",
        "    pass\n",
        "\n",
        "class mother():\n",
        "    pass\n",
        "\n",
        "class child(father,mother):\n",
        "    pass\n",
        "\n",
        "c1 = child()"
      ]
    },
    {
      "cell_type": "markdown",
      "id": "0f330a56",
      "metadata": {
        "id": "0f330a56"
      },
      "source": [
        "#### 18.5.4. Hierachical Inheritance"
      ]
    },
    {
      "cell_type": "code",
      "execution_count": null,
      "id": "0e881779",
      "metadata": {
        "id": "0e881779"
      },
      "outputs": [],
      "source": [
        "class parent():\n",
        "    pass\n",
        "\n",
        "class child1(parent):\n",
        "    pass\n",
        "\n",
        "class child2(parent):\n",
        "    pass\n",
        "\n",
        "c1 = child1()\n",
        "c2 = child2()"
      ]
    },
    {
      "cell_type": "markdown",
      "id": "63fb341c",
      "metadata": {
        "id": "63fb341c"
      },
      "source": [
        "#### 18.5.5. Hybrid Inheritnace"
      ]
    },
    {
      "cell_type": "raw",
      "id": "1344b74b",
      "metadata": {
        "id": "1344b74b"
      },
      "source": [
        "class base1():\n",
        "    pass\n",
        "\n",
        "class base2(base1):\n",
        "    pass\n",
        "\n",
        "class base3(base2):\n",
        "    pass\n",
        "\n",
        "class base4(base2,base3):\n",
        "    pass"
      ]
    },
    {
      "cell_type": "markdown",
      "id": "970a2e6f",
      "metadata": {
        "id": "970a2e6f"
      },
      "source": [
        "### 19. Abstraction"
      ]
    },
    {
      "cell_type": "raw",
      "id": "39c1ff3f",
      "metadata": {
        "id": "39c1ff3f"
      },
      "source": [
        "Abstraction is process of handling / hiding the complexities of unneccesary information. \n",
        "\n",
        "e.g 1.Smartphone \n",
        "calling, sms, camera, browsing, gaming etc.. we don't know operations in background\n",
        "\n",
        "2. TV/AC Remote: \n",
        "    pressing \"+\" will do its job without knowing background operation. "
      ]
    },
    {
      "cell_type": "markdown",
      "id": "743f54db",
      "metadata": {
        "id": "743f54db"
      },
      "source": [
        "#### 19.1 Why Abstraction ??"
      ]
    },
    {
      "cell_type": "raw",
      "id": "0b39fd3d",
      "metadata": {
        "id": "0b39fd3d"
      },
      "source": [
        "Abstraction provides a programmer to hide all irrelevant data/process of application to reduce complexity and increase the efficiency.  "
      ]
    },
    {
      "cell_type": "markdown",
      "id": "0fbb0c43",
      "metadata": {
        "id": "0fbb0c43"
      },
      "source": [
        "#### 19.2 Python Implemenataion"
      ]
    },
    {
      "cell_type": "raw",
      "id": "aa52f990",
      "metadata": {
        "id": "aa52f990"
      },
      "source": [
        "In python we can't do abstraction directly \n",
        "\n",
        "to achieve abstraction in python we have to import abc [ABSTRACT BASE CLASS], Abstractmethods \n",
        "\n",
        "we need to inherit to create an abstract class\n",
        "\n",
        "\n",
        "Abstract class is only used for delcaration , not for implementation \n",
        "we can not create object of abstract class\n",
        "\n",
        "Abstract class is blueprint of other classes"
      ]
    },
    {
      "cell_type": "code",
      "execution_count": null,
      "id": "135d9152",
      "metadata": {
        "id": "135d9152",
        "outputId": "fe910125-3476-4ad2-f00c-5b9b63949c8f"
      },
      "outputs": [
        {
          "name": "stdout",
          "output_type": "stream",
          "text": [
            "Method2\n"
          ]
        }
      ],
      "source": [
        "from abc import ABC,abstractmethod\n",
        "\n",
        "class abstractClass(ABC): # abstract class\n",
        "    \n",
        "    def method(self):   # normal method or concrete method\n",
        "        print(\"this is normal method\")\n",
        "        pass\n",
        "    \n",
        "    @abstractmethod\n",
        "    def method1(self):          ## abstract method\n",
        "        pass\n",
        "    \n",
        "class base(abstractClass):\n",
        "    def method1(self): \n",
        "        print(\"Method2\")\n",
        "        \n",
        "b = base()\n",
        "b.method1()"
      ]
    },
    {
      "cell_type": "code",
      "execution_count": null,
      "id": "cdb9000d",
      "metadata": {
        "id": "cdb9000d"
      },
      "outputs": [],
      "source": [
        "from abc import ABC, abstractmethod \n",
        "\n",
        "class projectABC(ABC):   # abstract class\n",
        "    \n",
        "    @abstractmethod      # decorator \n",
        "    def reg(self):       # abstract method\n",
        "        pass\n",
        "    \n",
        "    @abstractmethod     # decorator\n",
        "    def login(self):    # abstract method\n",
        "        pass            \n",
        "\n",
        "\n",
        "class appFunction(projectABC):\n",
        "    def reg(self):\n",
        "        print(\"Registartion function\")\n",
        "        \n",
        "    def login(self):\n",
        "        print(f\"Login function\")\n",
        "\n",
        "fun = appFunction()"
      ]
    },
    {
      "cell_type": "markdown",
      "id": "fbd95b40",
      "metadata": {
        "id": "fbd95b40"
      },
      "source": [
        "#### 19.3 Points to remember"
      ]
    },
    {
      "cell_type": "raw",
      "id": "2cc1979c",
      "metadata": {
        "id": "2cc1979c"
      },
      "source": [
        "1. Abstract class can contain abstract method and normal method \n",
        "2. Abstract class cannot be instantiate[we cannot create an object for abstract class]\n",
        "3. Abstarct class works blueprint for other class."
      ]
    },
    {
      "cell_type": "markdown",
      "id": "eeb4d9fa",
      "metadata": {
        "id": "eeb4d9fa"
      },
      "source": [
        "### 20. Python Polymorphism"
      ]
    },
    {
      "cell_type": "raw",
      "id": "952b2f34",
      "metadata": {
        "id": "952b2f34"
      },
      "source": [
        "poly    >> many, multiple\n",
        "morphism >> form\n",
        "\n",
        "polymorphism >> Having Many form "
      ]
    },
    {
      "cell_type": "markdown",
      "id": "a36e7b9a",
      "metadata": {
        "id": "a36e7b9a"
      },
      "source": [
        "#### 20.1 Python impmentation of polymorphism"
      ]
    },
    {
      "cell_type": "raw",
      "id": "ac655376",
      "metadata": {
        "id": "ac655376"
      },
      "source": [
        "Polymorphism in python same function can do different jobs. \n",
        "Like print function in python\n",
        "print use for printing list, tuple, dict and set.. etc"
      ]
    },
    {
      "cell_type": "code",
      "execution_count": null,
      "id": "d3b2b22a",
      "metadata": {
        "id": "d3b2b22a",
        "outputId": "f9336124-da56-49fb-d07e-43f3e40a4c0f"
      },
      "outputs": [
        {
          "name": "stdout",
          "output_type": "stream",
          "text": [
            "Area of circle = \n",
            "Area of Square = \n"
          ]
        }
      ],
      "source": [
        "class circle():\n",
        "    def get_area(self):\n",
        "        print(f\"Area of circle = \")\n",
        "        \n",
        "class square():\n",
        "    def get_area(self):\n",
        "        print(f\"Area of Square = \")\n",
        "        \n",
        "c1 = circle()\n",
        "s1 = square()\n",
        "\n",
        "c1.get_area()\n",
        "s1.get_area()"
      ]
    },
    {
      "cell_type": "markdown",
      "id": "c7138bb7",
      "metadata": {
        "id": "c7138bb7"
      },
      "source": [
        "#### 20.2 Method Overriding"
      ]
    },
    {
      "cell_type": "raw",
      "id": "7c1731c2",
      "metadata": {
        "id": "7c1731c2"
      },
      "source": [
        "Same method in different class"
      ]
    },
    {
      "cell_type": "code",
      "execution_count": null,
      "id": "155b7431",
      "metadata": {
        "id": "155b7431",
        "outputId": "66748cdc-aa0e-45e5-f204-cb42b9f9dd1a"
      },
      "outputs": [
        {
          "name": "stdout",
          "output_type": "stream",
          "text": [
            "Area of Square = \n",
            "Area of circle = \n"
          ]
        }
      ],
      "source": [
        "class circle():\n",
        "    def get_area(self):\n",
        "        print(f\"Area of circle = \")\n",
        "        \n",
        "class square(circle):\n",
        "    def get_area(self):\n",
        "        print(f\"Area of Square = \")\n",
        "        circle.get_area(self)\n",
        "        \n",
        "s1 = square()\n",
        "s1.get_area()"
      ]
    },
    {
      "cell_type": "markdown",
      "id": "b11b46e5",
      "metadata": {
        "id": "b11b46e5"
      },
      "source": [
        "#### 20.3 Method Overloading"
      ]
    },
    {
      "cell_type": "raw",
      "id": "a12d8840",
      "metadata": {
        "id": "a12d8840"
      },
      "source": [
        "A way to create multiple methods with the same name but different parameters.\n",
        "\n",
        "method overloading is not possible in python. "
      ]
    },
    {
      "cell_type": "code",
      "execution_count": null,
      "id": "c7d97c6d",
      "metadata": {
        "id": "c7d97c6d",
        "outputId": "43d7f755-7677-4816-bb8e-bbf6b24883ad"
      },
      "outputs": [
        {
          "name": "stdout",
          "output_type": "stream",
          "text": [
            "Area of circle = 78.53981633974483\n",
            "Area of Square = 49 \n",
            "Area of reactangle = 50\n"
          ]
        }
      ],
      "source": [
        "import math\n",
        "class circle():\n",
        "    def __init__(self, radius):\n",
        "        self.r = radius\n",
        "        \n",
        "    def get_area(self):\n",
        "        area = math.pi * self.r**2 \n",
        "        print(f\"Area of circle = {area}\")\n",
        "        \n",
        "class square():\n",
        "    def __init__(self, side):\n",
        "        self.side = side\n",
        "    \n",
        "    def get_area(self):\n",
        "        area = self.side **2\n",
        "        print(f\"Area of Square = {area} \")\n",
        "class rectangle():\n",
        "    def __init__(self, length, breath):\n",
        "        self.length = length\n",
        "        self.breath = breath\n",
        "    \n",
        "    def get_area(self):\n",
        "        area = self.length * self.breath\n",
        "        print(f\"Area of reactangle = {area}\")\n",
        "    \n",
        "    \n",
        "def area():\n",
        "    c1 = circle(5)\n",
        "    s1 = square(7)\n",
        "    r1 = rectangle(5,10)\n",
        "\n",
        "    for obj in [c1,s1,r1]:\n",
        "        obj.get_area()\n",
        "        \n",
        "if __name__ == '__main__':\n",
        "    area()"
      ]
    },
    {
      "cell_type": "markdown",
      "id": "a7dec1da",
      "metadata": {
        "id": "a7dec1da"
      },
      "source": [
        "### 21. Encapsulation"
      ]
    },
    {
      "cell_type": "raw",
      "id": "75e7441e",
      "metadata": {
        "id": "75e7441e"
      },
      "source": [
        "capsule: multiple medicines combine in one cpasule \n",
        "    \n",
        "encapsulation: It is the idea of wrapping data and methods that will work as single unit.\n",
        "This puts restrications on user on accesing variables and methods.\n",
        "    \n",
        "why ?? \n",
        "to prevent accidental modification of data. "
      ]
    },
    {
      "cell_type": "code",
      "execution_count": null,
      "id": "2b39ae92",
      "metadata": {
        "id": "2b39ae92",
        "outputId": "c2a92d71-5126-4856-c316-c7294f2fe68b"
      },
      "outputs": [
        {
          "name": "stdout",
          "output_type": "stream",
          "text": [
            "Test class init function\n",
            "City Name = Pune\n",
            "State Name = MH\n",
            "State Name = UK\n",
            "class var = ml\n"
          ]
        }
      ],
      "source": [
        "class testClass():\n",
        "    __class_var = 300    ### private class variable \n",
        "    class_var = 'ml'      ### public class variable\n",
        "    def __init__(self):\n",
        "        print(\"Test class init function\")\n",
        "        self.__city = \"Pune\" ### Private instance variable \n",
        "        self.__state = \"MH\"  ### private instance variable\n",
        "        self.country = 'IN'   ### Public instance variable\n",
        "    def display(self):\n",
        "#         self.__city = 'Delhi'\n",
        "        print(f\"City Name = {self.__city}\")\n",
        "        print(f\"State Name = {self.__state}\")\n",
        "        print(f\"State Name = {self.country}\")\n",
        "        print(f\"class var = {self.class_var}\")\n",
        "        \n",
        "obj = testClass()\n",
        "obj.country = 'UK'\n",
        "obj.display()"
      ]
    },
    {
      "cell_type": "markdown",
      "id": "bd6383c4",
      "metadata": {
        "id": "bd6383c4"
      },
      "source": [
        "#### 21.1 Name Mangling"
      ]
    },
    {
      "cell_type": "raw",
      "id": "40975dcc",
      "metadata": {
        "id": "40975dcc"
      },
      "source": [
        "Used to acccess / modify private variable and methods  from outside the class. \n",
        "\n",
        "syntax\n",
        "\n",
        "obj._className__indentifier\n",
        "\n",
        "obj._className__private_var_name\n",
        "obj._className__private_method"
      ]
    },
    {
      "cell_type": "code",
      "execution_count": null,
      "id": "4d2d46f8",
      "metadata": {
        "id": "4d2d46f8",
        "outputId": "71a7240d-b2e6-4377-a951-10885eeaa110"
      },
      "outputs": [
        {
          "name": "stdout",
          "output_type": "stream",
          "text": [
            "Test class init function\n"
          ]
        },
        {
          "data": {
            "text/plain": [
              "300"
            ]
          },
          "execution_count": 100,
          "metadata": {},
          "output_type": "execute_result"
        }
      ],
      "source": [
        "#### Name Managling \n",
        "\n",
        "class testClass():\n",
        "    __class_var1 = 300    ### private class variable \n",
        "    class_var = 'ml'      ### public class variable\n",
        "    def __init__(self):\n",
        "        print(\"Test class init function\")\n",
        "        x = 200             ### local Variable \n",
        "        self.__city = \"Pune\" ### Private instance variable \n",
        "        self.__state = \"MH\"  ### private instance variable\n",
        "        self.country = 'IN'   ### Public instance variable\n",
        "        \n",
        "    def method1(self):          ### public method\n",
        "        print(\"This is method1\")\n",
        "        print(\"__class_var1 = \",self.__class_var1)\n",
        "        \n",
        "        \n",
        "    def  __method2(self):          ### private method\n",
        "        print(\"this is private method2 \")\n",
        "        \n",
        "    def display(self):\n",
        "#         self.__city = 'Delhi'\n",
        "        print(f\"City Name = {self.__city}\")\n",
        "        print(f\"State Name = {self.__state}\")\n",
        "        print(f\"State Name = {self.country}\")\n",
        "        print(f\"class var = {self.class_var}\")\n",
        "        self.__method2()\n",
        "        \n",
        "obj = testClass()\n",
        "obj._testClass__class_var1"
      ]
    },
    {
      "cell_type": "code",
      "execution_count": null,
      "id": "10fb9f55",
      "metadata": {
        "id": "10fb9f55",
        "outputId": "ad82b043-cfce-43cb-d830-0e43085ad23f"
      },
      "outputs": [
        {
          "data": {
            "text/plain": [
              "'machine learning'"
            ]
          },
          "execution_count": 102,
          "metadata": {},
          "output_type": "execute_result"
        }
      ],
      "source": [
        "obj._testClass__class_var1 = 'machine learning'\n",
        "obj._testClass__class_var1"
      ]
    },
    {
      "cell_type": "markdown",
      "id": "7b860264",
      "metadata": {
        "id": "7b860264"
      },
      "source": [
        "### 22. Python Scope"
      ]
    },
    {
      "cell_type": "raw",
      "id": "cc73c2a8",
      "metadata": {
        "id": "cc73c2a8"
      },
      "source": [
        "A variable is only available from inside the region it is created. This is called scope."
      ]
    },
    {
      "cell_type": "markdown",
      "id": "a2da8ad6",
      "metadata": {
        "id": "a2da8ad6"
      },
      "source": [
        "#### 22.1 Local Scope"
      ]
    },
    {
      "cell_type": "raw",
      "id": "39dd41da",
      "metadata": {
        "id": "39dd41da"
      },
      "source": [
        "A variable created inside a function belongs to the local scope of that function, and can only be used inside that function."
      ]
    },
    {
      "cell_type": "code",
      "execution_count": null,
      "id": "4e03ffc4",
      "metadata": {
        "id": "4e03ffc4",
        "outputId": "f8328cd6-df2b-42ef-cb13-e9bda5af6af6"
      },
      "outputs": [
        {
          "name": "stdout",
          "output_type": "stream",
          "text": [
            "300\n"
          ]
        }
      ],
      "source": [
        "def myfunc():\n",
        "  x = 300\n",
        "  print(x)\n",
        "\n",
        "myfunc()"
      ]
    },
    {
      "cell_type": "markdown",
      "id": "2daa0995",
      "metadata": {
        "id": "2daa0995"
      },
      "source": [
        "#### 22.2 Function Inside Function"
      ]
    },
    {
      "cell_type": "raw",
      "id": "611c8b07",
      "metadata": {
        "id": "611c8b07"
      },
      "source": [
        "As explained in the example above, the variable x is not available outside the function, but it is available for any function inside the function."
      ]
    },
    {
      "cell_type": "code",
      "execution_count": null,
      "id": "8b1a9acf",
      "metadata": {
        "id": "8b1a9acf",
        "outputId": "42fec356-9a99-411d-b8a4-db4be9ca0355"
      },
      "outputs": [
        {
          "name": "stdout",
          "output_type": "stream",
          "text": [
            "300\n"
          ]
        }
      ],
      "source": [
        "def myfunc():\n",
        "  x = 300\n",
        "  def myinnerfunc():\n",
        "    print(x)\n",
        "  myinnerfunc()\n",
        "\n",
        "myfunc()"
      ]
    },
    {
      "cell_type": "markdown",
      "id": "c31174ed",
      "metadata": {
        "id": "c31174ed"
      },
      "source": [
        "#### 22.3 Global Scope"
      ]
    },
    {
      "cell_type": "raw",
      "id": "c2e5176d",
      "metadata": {
        "id": "c2e5176d"
      },
      "source": [
        "A variable created in the main body of the Python code is a global variable and belongs to the global scope.\n",
        "\n",
        "Global variables are available from within any scope, global and local."
      ]
    },
    {
      "cell_type": "code",
      "execution_count": null,
      "id": "ba21d4f8",
      "metadata": {
        "id": "ba21d4f8",
        "outputId": "e3313432-640f-4abb-d167-2708aed3416a"
      },
      "outputs": [
        {
          "name": "stdout",
          "output_type": "stream",
          "text": [
            "300\n",
            "300\n"
          ]
        }
      ],
      "source": [
        "x = 300\n",
        "\n",
        "def myfunc():\n",
        "  print(x)\n",
        "\n",
        "myfunc()\n",
        "\n",
        "print(x)"
      ]
    },
    {
      "cell_type": "markdown",
      "id": "863ea4f2",
      "metadata": {
        "id": "863ea4f2"
      },
      "source": [
        "#### 22.4 Global Keyword"
      ]
    },
    {
      "cell_type": "raw",
      "id": "9ee73e49",
      "metadata": {
        "id": "9ee73e49"
      },
      "source": [
        "If you need to create a global variable, but are stuck in the local scope, you can use the global keyword.\n",
        "\n",
        "The global keyword makes the variable global."
      ]
    },
    {
      "cell_type": "code",
      "execution_count": null,
      "id": "2b1f82de",
      "metadata": {
        "id": "2b1f82de",
        "outputId": "e4cb928c-aaf3-4d3a-9d20-a7e6f2b4e808"
      },
      "outputs": [
        {
          "name": "stdout",
          "output_type": "stream",
          "text": [
            "300\n"
          ]
        }
      ],
      "source": [
        "x = 500\n",
        "def myfunc():\n",
        "  global x\n",
        "  x = 300\n",
        "\n",
        "myfunc()\n",
        "\n",
        "print(x)"
      ]
    },
    {
      "cell_type": "raw",
      "id": "dbb8ab1b",
      "metadata": {
        "id": "dbb8ab1b"
      },
      "source": [
        "Also, use the global keyword if you want to make a change to a global variable inside a function"
      ]
    },
    {
      "cell_type": "code",
      "execution_count": null,
      "id": "20187f97",
      "metadata": {
        "id": "20187f97",
        "outputId": "5c903d8a-2557-490a-94de-d9ba532aa26b"
      },
      "outputs": [
        {
          "name": "stdout",
          "output_type": "stream",
          "text": [
            "200\n"
          ]
        }
      ],
      "source": [
        "def myfunc():\n",
        "  global x\n",
        "  x = 200\n",
        "\n",
        "myfunc()\n",
        "\n",
        "print(x)"
      ]
    },
    {
      "cell_type": "markdown",
      "id": "84b1dc4c",
      "metadata": {
        "id": "84b1dc4c"
      },
      "source": [
        "### 23. Python Modules"
      ]
    },
    {
      "cell_type": "raw",
      "id": "9bb2d523",
      "metadata": {
        "id": "9bb2d523"
      },
      "source": [
        "Consider a module to be the same as a code library.\n",
        "\n",
        "A file containing a set of functions you want to include in your application."
      ]
    },
    {
      "cell_type": "markdown",
      "id": "7ea1b793",
      "metadata": {
        "id": "7ea1b793"
      },
      "source": [
        "#### 23.1 Create a Module"
      ]
    },
    {
      "cell_type": "raw",
      "id": "f8fcb154",
      "metadata": {
        "id": "f8fcb154"
      },
      "source": [
        "To create a module just save the code you want in a file with the file extension .py"
      ]
    },
    {
      "cell_type": "code",
      "execution_count": null,
      "id": "2a960c01",
      "metadata": {
        "id": "2a960c01"
      },
      "outputs": [],
      "source": [
        "def greeting(name):\n",
        "  print(\"Hello, \" + name)\n",
        "\n",
        "# Save this code in a file named mymodule.py"
      ]
    },
    {
      "cell_type": "markdown",
      "id": "041d5fe0",
      "metadata": {
        "id": "041d5fe0"
      },
      "source": [
        "#### 23.2 Use a Module"
      ]
    },
    {
      "cell_type": "raw",
      "id": "75789be6",
      "metadata": {
        "id": "75789be6"
      },
      "source": [
        "Now we can use the module we just created, by using the import statement\n",
        "\n",
        "When using a function from a module, use the syntax: module_name.function_name."
      ]
    },
    {
      "cell_type": "raw",
      "id": "b4bfe71b",
      "metadata": {
        "id": "b4bfe71b"
      },
      "source": [
        "import mymodule\n",
        "\n",
        "mymodule.greeting(\"Jonathan\")"
      ]
    },
    {
      "cell_type": "markdown",
      "id": "7062a1a9",
      "metadata": {
        "id": "7062a1a9"
      },
      "source": [
        "#### 23.3 Variables in Module"
      ]
    },
    {
      "cell_type": "raw",
      "id": "83cd4be7",
      "metadata": {
        "id": "83cd4be7"
      },
      "source": [
        "The module can contain functions, as already described, but also variables of all types (arrays, dictionaries, objects etc)."
      ]
    },
    {
      "cell_type": "raw",
      "id": "91d4fbfd",
      "metadata": {
        "id": "91d4fbfd"
      },
      "source": [
        "import mymodule\n",
        "\n",
        "a = mymodule.person1[\"age\"]\n",
        "print(a)\n",
        "\n",
        "Import the module named mymodule, and access the person1 dictionary"
      ]
    },
    {
      "cell_type": "markdown",
      "id": "9e1ff67d",
      "metadata": {
        "id": "9e1ff67d"
      },
      "source": [
        "#### 23.4 Re-naming a Module"
      ]
    },
    {
      "cell_type": "raw",
      "id": "d8d39831",
      "metadata": {
        "id": "d8d39831"
      },
      "source": [
        "You can create an alias when you import a module, by using the 'as' keyword"
      ]
    },
    {
      "cell_type": "code",
      "execution_count": null,
      "id": "b57a9b42",
      "metadata": {
        "id": "b57a9b42"
      },
      "outputs": [],
      "source": [
        "import math as m"
      ]
    },
    {
      "cell_type": "markdown",
      "id": "2910163a",
      "metadata": {
        "id": "2910163a"
      },
      "source": [
        "#### 23.5 Built-in Modules"
      ]
    },
    {
      "cell_type": "raw",
      "id": "07a78bfc",
      "metadata": {
        "id": "07a78bfc"
      },
      "source": [
        "There are several built-in modules in Python, which you can import whenever you like"
      ]
    },
    {
      "cell_type": "code",
      "execution_count": null,
      "id": "ecb4026c",
      "metadata": {
        "id": "ecb4026c",
        "outputId": "fa6b94a5-f972-4af7-eb29-f27508f2265e"
      },
      "outputs": [
        {
          "name": "stdout",
          "output_type": "stream",
          "text": [
            "Windows\n"
          ]
        }
      ],
      "source": [
        "import platform\n",
        "\n",
        "x = platform.system()\n",
        "print(x)"
      ]
    },
    {
      "cell_type": "markdown",
      "id": "8a1e88e7",
      "metadata": {
        "id": "8a1e88e7"
      },
      "source": [
        "#### 23.6 Using the dir() Function"
      ]
    },
    {
      "cell_type": "raw",
      "id": "f83ecac5",
      "metadata": {
        "id": "f83ecac5"
      },
      "source": [
        "There is a built-in function to list all the function names (or variable names) in a module. The dir() function\n",
        "\n",
        "The dir() function can be used on all modules, also the ones you create yourself."
      ]
    },
    {
      "cell_type": "code",
      "execution_count": null,
      "id": "b20a5302",
      "metadata": {
        "id": "b20a5302",
        "outputId": "a802f401-b487-4d26-aef8-8a80c91420df"
      },
      "outputs": [
        {
          "name": "stdout",
          "output_type": "stream",
          "text": [
            "['_Processor', '_WIN32_CLIENT_RELEASES', '_WIN32_SERVER_RELEASES', '__builtins__', '__cached__', '__copyright__', '__doc__', '__file__', '__loader__', '__name__', '__package__', '__spec__', '__version__', '_comparable_version', '_component_re', '_default_architecture', '_follow_symlinks', '_get_machine_win32', '_ironpython26_sys_version_parser', '_ironpython_sys_version_parser', '_java_getprop', '_libc_search', '_mac_ver_xml', '_node', '_norm_version', '_os_release_cache', '_os_release_candidates', '_os_release_line', '_os_release_unescape', '_parse_os_release', '_platform', '_platform_cache', '_pypy_sys_version_parser', '_sys_version', '_sys_version_cache', '_sys_version_parser', '_syscmd_file', '_syscmd_ver', '_uname_cache', '_unknown_as_blank', '_ver_output', '_ver_stages', 'architecture', 'collections', 'freedesktop_os_release', 'functools', 'itertools', 'java_ver', 'libc_ver', 'mac_ver', 'machine', 'node', 'os', 'platform', 'processor', 'python_branch', 'python_build', 'python_compiler', 'python_implementation', 'python_revision', 'python_version', 'python_version_tuple', 're', 'release', 'subprocess', 'sys', 'system', 'system_alias', 'uname', 'uname_result', 'version', 'win32_edition', 'win32_is_iot', 'win32_ver']\n"
          ]
        }
      ],
      "source": [
        "import platform\n",
        "\n",
        "x = dir(platform)\n",
        "print(x)"
      ]
    },
    {
      "cell_type": "markdown",
      "id": "8c9e72f3",
      "metadata": {
        "id": "8c9e72f3"
      },
      "source": [
        "### 24. Python Iterators"
      ]
    },
    {
      "cell_type": "raw",
      "id": "f035e02b",
      "metadata": {
        "id": "f035e02b"
      },
      "source": [
        "An iterator is an object that contains a countable number of values.\n",
        "\n",
        "An iterator is an object that can be iterated upon, meaning that you can traverse through all the values.\n",
        "\n",
        "Technically, in Python, an iterator is an object which implements the iterator protocol, which consist of the methods __iter__() and __next__()."
      ]
    },
    {
      "cell_type": "markdown",
      "id": "2cec59d1",
      "metadata": {
        "id": "2cec59d1"
      },
      "source": [
        "#### 24.1 Iterator vs Iterable"
      ]
    },
    {
      "cell_type": "raw",
      "id": "bb9becdf",
      "metadata": {
        "id": "bb9becdf"
      },
      "source": [
        "Lists, tuples, dictionaries, and sets are all iterable objects. They are iterable containers which you can get an iterator from.\n",
        "\n",
        "All these objects have a iter() method which is used to get an iterator."
      ]
    },
    {
      "cell_type": "code",
      "execution_count": null,
      "id": "4e008a91",
      "metadata": {
        "id": "4e008a91",
        "outputId": "2daf4505-e83d-4766-b0a9-7fb8053c915a"
      },
      "outputs": [
        {
          "name": "stdout",
          "output_type": "stream",
          "text": [
            "apple\n",
            "banana\n",
            "cherry\n"
          ]
        }
      ],
      "source": [
        "mytuple = (\"apple\", \"banana\", \"cherry\")\n",
        "myit = iter(mytuple)\n",
        "\n",
        "print(next(myit))\n",
        "print(next(myit))\n",
        "print(next(myit))"
      ]
    },
    {
      "cell_type": "markdown",
      "id": "6c2006e4",
      "metadata": {
        "id": "6c2006e4"
      },
      "source": [
        "#### 24.2 Create an Iterator"
      ]
    },
    {
      "cell_type": "raw",
      "id": "3a797218",
      "metadata": {
        "id": "3a797218"
      },
      "source": [
        "To create an object/class as an iterator you have to implement the methods __iter__() and __next__() to your object.\n",
        "\n",
        "As you have learned in the Python Classes/Objects chapter, all classes have a function called __init__(), which allows you to do some initializing when the object is being created.\n",
        "\n",
        "The __iter__() method acts similar, you can do operations (initializing etc.), but must always return the iterator object itself.\n",
        "\n",
        "The __next__() method also allows you to do operations, and must return the next item in the sequence.\n",
        "\n",
        "This methods are also called as magic methods and dundar methods"
      ]
    },
    {
      "cell_type": "code",
      "execution_count": null,
      "id": "4fe1e362",
      "metadata": {
        "id": "4fe1e362",
        "outputId": "3cbd58db-063d-4caa-873d-a4a440ba8356"
      },
      "outputs": [
        {
          "name": "stdout",
          "output_type": "stream",
          "text": [
            "1\n",
            "2\n",
            "3\n",
            "4\n",
            "5\n"
          ]
        }
      ],
      "source": [
        "class MyNumbers:\n",
        "    def __iter__(self):\n",
        "        self.a = 1\n",
        "        return self\n",
        "\n",
        "    def __next__(self):\n",
        "        x = self.a\n",
        "        self.a += 1\n",
        "        return x\n",
        "\n",
        "myclass = MyNumbers()\n",
        "myiter = iter(myclass)\n",
        "\n",
        "print(next(myiter))\n",
        "print(next(myiter))\n",
        "print(next(myiter))\n",
        "print(next(myiter))\n",
        "print(next(myiter))"
      ]
    },
    {
      "cell_type": "markdown",
      "id": "4a97df02",
      "metadata": {
        "id": "4a97df02"
      },
      "source": [
        "#### 24.3 StopIteration"
      ]
    },
    {
      "cell_type": "raw",
      "id": "382e57c3",
      "metadata": {
        "id": "382e57c3"
      },
      "source": [
        "The example above would continue forever if you had enough next() statements, or if it was used in a for loop.\n",
        "\n",
        "To prevent the iteration to go on forever, we can use the StopIteration statement.\n",
        "\n",
        "In the __next__() method, we can add a terminating condition to raise an error if the iteration is done a specified number of times."
      ]
    },
    {
      "cell_type": "code",
      "execution_count": null,
      "id": "d49d414f",
      "metadata": {
        "id": "d49d414f",
        "outputId": "2e4c9673-eded-46bd-ed36-f1fccf91088e"
      },
      "outputs": [
        {
          "name": "stdout",
          "output_type": "stream",
          "text": [
            "1\n",
            "2\n",
            "3\n",
            "4\n",
            "5\n",
            "6\n",
            "7\n",
            "8\n",
            "9\n",
            "10\n",
            "11\n",
            "12\n",
            "13\n",
            "14\n",
            "15\n",
            "16\n",
            "17\n",
            "18\n",
            "19\n",
            "20\n"
          ]
        }
      ],
      "source": [
        "class MyNumbers:\n",
        "    def __iter__(self):\n",
        "        self.a = 1\n",
        "        return self\n",
        "\n",
        "    def __next__(self):\n",
        "        if self.a <= 20:\n",
        "            x = self.a\n",
        "            self.a += 1\n",
        "            return x\n",
        "    else:\n",
        "        raise StopIteration\n",
        "\n",
        "myclass = MyNumbers()\n",
        "myiter = iter(myclass)\n",
        "\n",
        "for x in myiter:\n",
        "    print(x)"
      ]
    },
    {
      "cell_type": "markdown",
      "id": "5c7d6b40",
      "metadata": {
        "id": "5c7d6b40"
      },
      "source": [
        "### 25. Python Try Except"
      ]
    },
    {
      "cell_type": "raw",
      "id": "9b41914d",
      "metadata": {
        "id": "9b41914d"
      },
      "source": [
        "The try block lets you test a block of code for errors.\n",
        "\n",
        "The except block lets you handle the error.\n",
        "\n",
        "The else block lets you execute code when there is no error.\n",
        "\n",
        "The finally block lets you execute code, regardless of the result of the try- and except blocks."
      ]
    },
    {
      "cell_type": "markdown",
      "id": "94f3fc27",
      "metadata": {
        "id": "94f3fc27"
      },
      "source": [
        "#### 25.1 Exception Handling"
      ]
    },
    {
      "cell_type": "raw",
      "id": "d2978e79",
      "metadata": {
        "id": "d2978e79"
      },
      "source": [
        "When an error occurs, or exception as we call it, Python will normally stop and generate an error message.\n",
        "\n",
        "These exceptions can be handled using the try statement:"
      ]
    },
    {
      "cell_type": "code",
      "execution_count": null,
      "id": "26fbcb81",
      "metadata": {
        "id": "26fbcb81",
        "outputId": "dd5753af-acda-4a96-8174-f4027eeb8293"
      },
      "outputs": [
        {
          "name": "stdout",
          "output_type": "stream",
          "text": [
            "An exception occurred\n"
          ]
        }
      ],
      "source": [
        "try:\n",
        "  print(e)\n",
        "except:\n",
        "  print(\"An exception occurred\")"
      ]
    },
    {
      "cell_type": "markdown",
      "id": "fd8f0123",
      "metadata": {
        "id": "fd8f0123"
      },
      "source": [
        "#### 25.2 Many Exceptions"
      ]
    },
    {
      "cell_type": "code",
      "execution_count": null,
      "id": "7bb35736",
      "metadata": {
        "id": "7bb35736",
        "outputId": "6ee2add8-fcca-4582-b88b-42c94816c396"
      },
      "outputs": [
        {
          "name": "stdout",
          "output_type": "stream",
          "text": [
            "Variable x is not defined\n"
          ]
        }
      ],
      "source": [
        "try:\n",
        "  print(e)\n",
        "except NameError:\n",
        "  print(\"Variable x is not defined\")\n",
        "except:\n",
        "  print(\"Something else went wrong\")"
      ]
    },
    {
      "cell_type": "markdown",
      "id": "c44aa80e",
      "metadata": {
        "id": "c44aa80e"
      },
      "source": [
        "#### 25.3 Else"
      ]
    },
    {
      "cell_type": "raw",
      "id": "54f115be",
      "metadata": {
        "id": "54f115be"
      },
      "source": [
        "You can use the else keyword to define a block of code to be executed if no errors were raised"
      ]
    },
    {
      "cell_type": "code",
      "execution_count": null,
      "id": "bb94281c",
      "metadata": {
        "id": "bb94281c",
        "outputId": "5a0ed86c-31d4-4d67-e506-5852913ead4a"
      },
      "outputs": [
        {
          "name": "stdout",
          "output_type": "stream",
          "text": [
            "Hello\n",
            "Nothing went wrong\n"
          ]
        }
      ],
      "source": [
        "try:\n",
        "  print(\"Hello\")\n",
        "except:\n",
        "  print(\"Something went wrong\")\n",
        "else:\n",
        "  print(\"Nothing went wrong\")"
      ]
    },
    {
      "cell_type": "markdown",
      "id": "6165ebf3",
      "metadata": {
        "id": "6165ebf3"
      },
      "source": [
        "#### 25.4 Finally"
      ]
    },
    {
      "cell_type": "raw",
      "id": "ddb474ce",
      "metadata": {
        "id": "ddb474ce"
      },
      "source": [
        "The finally block, if specified, will be executed regardless if the try block raises an error or not."
      ]
    },
    {
      "cell_type": "code",
      "execution_count": null,
      "id": "3e14f5be",
      "metadata": {
        "id": "3e14f5be",
        "outputId": "af8f4dfb-bb9a-4f46-f51e-4d905fdc8605"
      },
      "outputs": [
        {
          "name": "stdout",
          "output_type": "stream",
          "text": [
            "Something went wrong\n",
            "The 'try except' is finished\n"
          ]
        }
      ],
      "source": [
        "try:\n",
        "  print(e)\n",
        "except:\n",
        "  print(\"Something went wrong\")\n",
        "finally:\n",
        "  print(\"The 'try except' is finished\")"
      ]
    },
    {
      "cell_type": "markdown",
      "id": "85ca8ec1",
      "metadata": {
        "id": "85ca8ec1"
      },
      "source": [
        "#### 25.5 Raise an exception"
      ]
    },
    {
      "cell_type": "raw",
      "id": "eeed4a80",
      "metadata": {
        "id": "eeed4a80"
      },
      "source": [
        "As a Python developer you can choose to throw an exception if a condition occurs.\n",
        "\n",
        "To throw (or raise) an exception, use the raise keyword.\n",
        "The raise keyword is used to raise an exception.\n",
        "You can define what kind of error to raise, and the text to print to the user."
      ]
    },
    {
      "cell_type": "code",
      "execution_count": null,
      "id": "f0c5ec3a",
      "metadata": {
        "id": "f0c5ec3a",
        "outputId": "f69a02b7-35d4-4481-e0fe-7dea6d897857"
      },
      "outputs": [
        {
          "ename": "Exception",
          "evalue": "Sorry, no numbers below zero",
          "output_type": "error",
          "traceback": [
            "\u001b[1;31m---------------------------------------------------------------------------\u001b[0m",
            "\u001b[1;31mException\u001b[0m                                 Traceback (most recent call last)",
            "Cell \u001b[1;32mIn [126], line 4\u001b[0m\n\u001b[0;32m      1\u001b[0m x \u001b[38;5;241m=\u001b[39m \u001b[38;5;241m-\u001b[39m\u001b[38;5;241m1\u001b[39m\n\u001b[0;32m      3\u001b[0m \u001b[38;5;28;01mif\u001b[39;00m x \u001b[38;5;241m<\u001b[39m \u001b[38;5;241m0\u001b[39m:\n\u001b[1;32m----> 4\u001b[0m     \u001b[38;5;28;01mraise\u001b[39;00m \u001b[38;5;167;01mException\u001b[39;00m(\u001b[38;5;124m\"\u001b[39m\u001b[38;5;124mSorry, no numbers below zero\u001b[39m\u001b[38;5;124m\"\u001b[39m)\n",
            "\u001b[1;31mException\u001b[0m: Sorry, no numbers below zero"
          ]
        }
      ],
      "source": [
        "x = -1\n",
        "\n",
        "if x < 0:\n",
        "    raise Exception(\"Sorry, no numbers below zero\")"
      ]
    },
    {
      "cell_type": "markdown",
      "id": "e81005cd",
      "metadata": {
        "id": "e81005cd"
      },
      "source": [
        "### 26. Python String Formatting"
      ]
    },
    {
      "cell_type": "raw",
      "id": "e86f2234",
      "metadata": {
        "id": "e86f2234"
      },
      "source": [
        "To make sure a string will display as expected, we can format the result with the format() method."
      ]
    },
    {
      "cell_type": "markdown",
      "id": "c24c0952",
      "metadata": {
        "id": "c24c0952"
      },
      "source": [
        "#### 26.1 String format()"
      ]
    },
    {
      "cell_type": "raw",
      "id": "419b5d2a",
      "metadata": {
        "id": "419b5d2a"
      },
      "source": [
        "The format() method formats the specified value(s) and insert them inside the string's placeholder.\n",
        "\n",
        "The placeholder is defined using curly brackets: {}. Read more about the placeholders in the Placeholder section below.\n",
        "\n",
        "The format() method returns the formatted string."
      ]
    },
    {
      "cell_type": "raw",
      "id": "7c205bca",
      "metadata": {
        "id": "7c205bca"
      },
      "source": [
        "Syntax\n",
        "string.format(value1, value2...)"
      ]
    },
    {
      "cell_type": "code",
      "execution_count": null,
      "id": "ed220dd8",
      "metadata": {
        "id": "ed220dd8",
        "outputId": "abcb396c-3afe-46df-a838-d647c228cf49"
      },
      "outputs": [
        {
          "name": "stdout",
          "output_type": "stream",
          "text": [
            "The price is 49 dollars\n"
          ]
        }
      ],
      "source": [
        "price = 49\n",
        "txt = \"The price is {} dollars\"\n",
        "print(txt.format(price))"
      ]
    },
    {
      "cell_type": "raw",
      "id": "e79df228",
      "metadata": {
        "id": "e79df228"
      },
      "source": [
        "You can add parameters inside the curly brackets to specify how to convert the value."
      ]
    },
    {
      "cell_type": "code",
      "execution_count": null,
      "id": "b86b1c0a",
      "metadata": {
        "id": "b86b1c0a"
      },
      "outputs": [],
      "source": [
        "txt = \"The price is {:.2f} dollars\""
      ]
    },
    {
      "cell_type": "markdown",
      "id": "73588b4f",
      "metadata": {
        "id": "73588b4f"
      },
      "source": [
        "#### 26.2 F string"
      ]
    },
    {
      "cell_type": "raw",
      "id": "d2519ed2",
      "metadata": {
        "id": "d2519ed2"
      },
      "source": [
        "Syntax\n",
        "string1(f'string data {value1}, {value2}')"
      ]
    },
    {
      "cell_type": "markdown",
      "id": "81fc9d36",
      "metadata": {
        "id": "81fc9d36"
      },
      "source": [
        "### 27. Python File Handling"
      ]
    },
    {
      "cell_type": "markdown",
      "id": "e4ca4293",
      "metadata": {
        "id": "e4ca4293"
      },
      "source": [
        "#### 27.1 Open file"
      ]
    },
    {
      "cell_type": "raw",
      "id": "22bbe9fc",
      "metadata": {
        "id": "22bbe9fc"
      },
      "source": [
        "The key function for working with files in Python is the open() function.\n",
        "\n",
        "The open() function takes two parameters; filename, and mode.\n",
        "\n",
        "There are four different methods (modes) for opening a file:"
      ]
    },
    {
      "cell_type": "raw",
      "id": "94407c1b",
      "metadata": {
        "id": "94407c1b"
      },
      "source": [
        "\"r\" - Read - Default value. Opens a file for reading, error if the file does not exist\n",
        "\n",
        "\"a\" - Append - Opens a file for appending, creates the file if it does not exist\n",
        "\n",
        "\"w\" - Write - Opens a file for writing, creates the file if it does not exist\n",
        "\n",
        "\"x\" - Create - Creates the specified file, returns an error if the file exists"
      ]
    },
    {
      "cell_type": "raw",
      "id": "5067c051",
      "metadata": {
        "id": "5067c051"
      },
      "source": [
        "In addition you can specify if the file should be handled as binary or text mode"
      ]
    },
    {
      "cell_type": "raw",
      "id": "8028c57c",
      "metadata": {
        "id": "8028c57c"
      },
      "source": [
        "\"t\" - Text - Default value. Text mode\n",
        "\n",
        "\"b\" - Binary - Binary mode (e.g. images)"
      ]
    },
    {
      "cell_type": "raw",
      "id": "9357cdce",
      "metadata": {
        "id": "9357cdce"
      },
      "source": [
        "Syntax\n",
        "f = open(\"demofile.txt\", \"rt\")"
      ]
    },
    {
      "cell_type": "markdown",
      "id": "2de048c3",
      "metadata": {
        "id": "2de048c3"
      },
      "source": [
        "#### 27.2 Read File"
      ]
    },
    {
      "cell_type": "raw",
      "id": "c73ae398",
      "metadata": {
        "id": "c73ae398"
      },
      "source": [
        "The open() function returns a file object, which has a read() method for reading the content of the file"
      ]
    },
    {
      "cell_type": "code",
      "execution_count": null,
      "id": "5a482e80",
      "metadata": {
        "id": "5a482e80"
      },
      "outputs": [],
      "source": [
        "f = open(\"demofile.txt\", \"r\")\n",
        "print(f.read())"
      ]
    },
    {
      "cell_type": "markdown",
      "id": "164182dc",
      "metadata": {
        "id": "164182dc"
      },
      "source": [
        "#### 27.3 Read Lines"
      ]
    },
    {
      "cell_type": "raw",
      "id": "ec922824",
      "metadata": {
        "id": "ec922824"
      },
      "source": [
        "You can return one line by using the readline() method\n",
        "By calling readline() two times, you can read the two first lines"
      ]
    },
    {
      "cell_type": "raw",
      "id": "72fee96e",
      "metadata": {
        "id": "72fee96e"
      },
      "source": [
        "f = open(\"demofile.txt\", \"r\")\n",
        "print(f.readline())\n",
        "print(f.readline())"
      ]
    },
    {
      "cell_type": "markdown",
      "id": "4d934cad",
      "metadata": {
        "id": "4d934cad"
      },
      "source": [
        "#### 27.4 Close Files"
      ]
    },
    {
      "cell_type": "raw",
      "id": "ae77cce0",
      "metadata": {
        "id": "ae77cce0"
      },
      "source": [
        "It is a good practice to always close the file when you are done with it"
      ]
    },
    {
      "cell_type": "raw",
      "id": "dab7a64a",
      "metadata": {
        "id": "dab7a64a"
      },
      "source": [
        "f = open(\"demofile.txt\", \"r\")\n",
        "print(f.readline())\n",
        "f.close()"
      ]
    },
    {
      "cell_type": "markdown",
      "id": "fc998ee9",
      "metadata": {
        "id": "fc998ee9"
      },
      "source": [
        "#### 27.5 Write to an Existing File"
      ]
    },
    {
      "cell_type": "raw",
      "id": "abe7d59c",
      "metadata": {
        "id": "abe7d59c"
      },
      "source": [
        "To write to an existing file, you must add a parameter to the open() function:\n",
        "\n",
        "\"a\" - Append - will append to the end of the file\n",
        "\n",
        "\"w\" - Write - will overwrite any existing content"
      ]
    },
    {
      "cell_type": "raw",
      "id": "5f9b0d99",
      "metadata": {
        "id": "5f9b0d99"
      },
      "source": [
        "f = open(\"demofile2.txt\", \"a\")\n",
        "f.write(\"Now the file has more content!\")\n",
        "f.close()\n",
        "\n",
        "#open and read the file after the appending:\n",
        "f = open(\"demofile2.txt\", \"r\")\n",
        "print(f.read())"
      ]
    },
    {
      "cell_type": "markdown",
      "id": "29657daa",
      "metadata": {
        "id": "29657daa"
      },
      "source": [
        "#### 27.6 Create a New File"
      ]
    },
    {
      "cell_type": "raw",
      "id": "ceb8f3cc",
      "metadata": {
        "id": "ceb8f3cc"
      },
      "source": [
        "To create a new file in Python, use the open() method, with one of the following parameters:\n",
        "\n",
        "\"x\" - Create - will create a file, returns an error if the file exist\n",
        "\n",
        "\"a\" - Append - will create a file if the specified file does not exist\n",
        "\n",
        "\"w\" - Write - will create a file if the specified file does not exist"
      ]
    },
    {
      "cell_type": "raw",
      "id": "2b75a808",
      "metadata": {
        "id": "2b75a808"
      },
      "source": [
        "f = open(\"myfile.txt\", \"x\")"
      ]
    },
    {
      "cell_type": "markdown",
      "id": "58dbfdb6",
      "metadata": {
        "id": "58dbfdb6"
      },
      "source": [
        "### 28. Python JSON"
      ]
    },
    {
      "cell_type": "raw",
      "id": "74e1af12",
      "metadata": {
        "id": "74e1af12"
      },
      "source": [
        "JSON is a syntax for storing and exchanging data.\n",
        "\n",
        "JSON is text, written with JavaScript object notation\n",
        "\n",
        "Python has a built-in package called json, which can be used to work with JSON data."
      ]
    },
    {
      "cell_type": "markdown",
      "id": "e726bdfd",
      "metadata": {
        "id": "e726bdfd"
      },
      "source": [
        "#### 28.1 JSON load"
      ]
    },
    {
      "cell_type": "raw",
      "id": "4f2ee3f0",
      "metadata": {
        "id": "4f2ee3f0"
      },
      "source": [
        "To load file use JSON Load method"
      ]
    },
    {
      "cell_type": "raw",
      "id": "0765f92d",
      "metadata": {
        "id": "0765f92d"
      },
      "source": [
        "import json\n",
        "\n",
        "# some JSON:\n",
        "x =  '{ \"name\":\"John\", \"age\":30, \"city\":\"New York\"}'\n",
        "\n",
        "# parse x:\n",
        "y = json.loads(x)\n",
        "\n",
        "# the result is a Python dictionary:\n",
        "print(y[\"age\"])"
      ]
    },
    {
      "cell_type": "markdown",
      "id": "7389e452",
      "metadata": {
        "id": "7389e452"
      },
      "source": [
        "#### 28.2 JSON dumps"
      ]
    },
    {
      "cell_type": "code",
      "execution_count": null,
      "id": "0cfe6b27",
      "metadata": {
        "id": "0cfe6b27",
        "outputId": "8751d960-7d8c-42e0-a143-d172237d7b2f"
      },
      "outputs": [
        {
          "name": "stdout",
          "output_type": "stream",
          "text": [
            "{\"name\": \"John\", \"age\": 30, \"city\": \"New York\"}\n"
          ]
        }
      ],
      "source": [
        "import json\n",
        "\n",
        "# a Python object (dict):\n",
        "x = {\n",
        "  \"name\": \"John\",\n",
        "  \"age\": 30,\n",
        "  \"city\": \"New York\"\n",
        "}\n",
        "\n",
        "# convert into JSON:\n",
        "y = json.dumps(x)\n",
        "\n",
        "# the result is a JSON string:\n",
        "print(y)"
      ]
    },
    {
      "cell_type": "markdown",
      "id": "a388055d",
      "metadata": {
        "id": "a388055d"
      },
      "source": [
        "#### 28.3 JSON string"
      ]
    },
    {
      "cell_type": "raw",
      "id": "0aca8832",
      "metadata": {
        "id": "0aca8832"
      },
      "source": [
        "You can convert Python objects of the following types, into JSON strings\n",
        "\n",
        "dict\n",
        "list\n",
        "tuple\n",
        "string\n",
        "int\n",
        "float\n",
        "True\n",
        "False\n",
        "None"
      ]
    },
    {
      "cell_type": "markdown",
      "id": "29d45737",
      "metadata": {
        "id": "29d45737"
      },
      "source": [
        "### 29. Time"
      ]
    },
    {
      "cell_type": "raw",
      "id": "6aacefdd",
      "metadata": {
        "id": "6aacefdd"
      },
      "source": [
        "Python has a module named time to handle time-related tasks. To use functions defined in the module, we need to import the module first. Here's how:"
      ]
    },
    {
      "cell_type": "markdown",
      "id": "96ffec69",
      "metadata": {
        "id": "96ffec69"
      },
      "source": [
        "#### 29.1 Python time.time()"
      ]
    },
    {
      "cell_type": "raw",
      "id": "1aa93a97",
      "metadata": {
        "id": "1aa93a97"
      },
      "source": [
        "The time() function returns the number of seconds passed since epoch."
      ]
    },
    {
      "cell_type": "code",
      "execution_count": null,
      "id": "5947d46c",
      "metadata": {
        "id": "5947d46c",
        "outputId": "5a4907fd-5259-4dc9-8ca9-43ab26de5559"
      },
      "outputs": [
        {
          "name": "stdout",
          "output_type": "stream",
          "text": [
            "Seconds since epoch = 1666786594.78642\n"
          ]
        }
      ],
      "source": [
        "import time\n",
        "seconds = time.time()\n",
        "print(\"Seconds since epoch =\", seconds)\t"
      ]
    },
    {
      "cell_type": "markdown",
      "id": "61ffc025",
      "metadata": {
        "id": "61ffc025"
      },
      "source": [
        "#### 29.2 Python time.ctime()"
      ]
    },
    {
      "cell_type": "raw",
      "id": "240c947c",
      "metadata": {
        "id": "240c947c"
      },
      "source": [
        "The time.ctime() function takes seconds passed since epoch as an argument and returns a string representing local time."
      ]
    },
    {
      "cell_type": "code",
      "execution_count": null,
      "id": "6bcbc159",
      "metadata": {
        "id": "6bcbc159",
        "outputId": "8b341854-6b4a-4f86-a690-77da31d61e48"
      },
      "outputs": [
        {
          "name": "stdout",
          "output_type": "stream",
          "text": [
            "Local time: Wed Oct 26 17:51:20 2022\n"
          ]
        }
      ],
      "source": [
        "import time\n",
        "\n",
        "# seconds passed since epoch\n",
        "local_time = time.ctime()\n",
        "print(\"Local time:\", local_time)"
      ]
    },
    {
      "cell_type": "markdown",
      "id": "5193468e",
      "metadata": {
        "id": "5193468e"
      },
      "source": [
        "#### 29.3 Python time.sleep()"
      ]
    },
    {
      "cell_type": "raw",
      "id": "2818bcb0",
      "metadata": {
        "id": "2818bcb0"
      },
      "source": [
        "The sleep() function suspends (delays) execution of the current thread for the given number of seconds"
      ]
    },
    {
      "cell_type": "code",
      "execution_count": null,
      "id": "29232e70",
      "metadata": {
        "id": "29232e70",
        "outputId": "f05eb8c1-8a97-4d05-f478-e6cab0d03e20"
      },
      "outputs": [
        {
          "name": "stdout",
          "output_type": "stream",
          "text": [
            "This is printed immediately.\n",
            "This is printed after 2.4 seconds.\n"
          ]
        }
      ],
      "source": [
        "import time\n",
        "\n",
        "print(\"This is printed immediately.\")\n",
        "time.sleep(2.4)\n",
        "print(\"This is printed after 2.4 seconds.\")"
      ]
    },
    {
      "cell_type": "markdown",
      "id": "bfc5d8c7",
      "metadata": {
        "id": "bfc5d8c7"
      },
      "source": [
        "#### 29.4 Python time.localtime()"
      ]
    },
    {
      "cell_type": "raw",
      "id": "76c693f7",
      "metadata": {
        "id": "76c693f7"
      },
      "source": [
        "The localtime() function takes the number of seconds passed since epoch as an argument and returns struct_time in local time."
      ]
    },
    {
      "cell_type": "code",
      "execution_count": null,
      "id": "ed3bbb7d",
      "metadata": {
        "id": "ed3bbb7d",
        "outputId": "1d1e1e02-d42a-4e64-b2b6-8d41411ba931"
      },
      "outputs": [
        {
          "name": "stdout",
          "output_type": "stream",
          "text": [
            "result: time.struct_time(tm_year=2022, tm_mon=10, tm_mday=26, tm_hour=17, tm_min=51, tm_sec=6, tm_wday=2, tm_yday=299, tm_isdst=0)\n",
            "\n",
            "year: 2022\n",
            "tm_hour: 17\n"
          ]
        }
      ],
      "source": [
        "import time\n",
        "\n",
        "result = time.localtime()\n",
        "print(\"result:\", result)\n",
        "print(\"\\nyear:\", result.tm_year)\n",
        "print(\"tm_hour:\", result.tm_hour)"
      ]
    },
    {
      "cell_type": "markdown",
      "id": "5f13d568",
      "metadata": {
        "id": "5f13d568"
      },
      "source": [
        "#### 29.5 Python time.gmtime()"
      ]
    },
    {
      "cell_type": "raw",
      "id": "f7e34c58",
      "metadata": {
        "id": "f7e34c58"
      },
      "source": [
        "The gmtime() function takes the number of seconds passed since epoch as an argument and returns struct_time in UTC."
      ]
    },
    {
      "cell_type": "code",
      "execution_count": null,
      "id": "c704a61d",
      "metadata": {
        "id": "c704a61d",
        "outputId": "5829b00f-7ccb-4947-c643-47bc07d18065"
      },
      "outputs": [
        {
          "name": "stdout",
          "output_type": "stream",
          "text": [
            "result: time.struct_time(tm_year=2022, tm_mon=10, tm_mday=26, tm_hour=12, tm_min=20, tm_sec=55, tm_wday=2, tm_yday=299, tm_isdst=0)\n",
            "\n",
            "year: 2022\n",
            "tm_hour: 12\n"
          ]
        }
      ],
      "source": [
        "import time\n",
        "\n",
        "result = time.gmtime()\n",
        "print(\"result:\", result)\n",
        "print(\"\\nyear:\", result.tm_year)\n",
        "print(\"tm_hour:\", result.tm_hour)"
      ]
    },
    {
      "cell_type": "markdown",
      "id": "40c618b2",
      "metadata": {
        "id": "40c618b2"
      },
      "source": [
        "#### 29.6 Python time.strftime()"
      ]
    },
    {
      "cell_type": "raw",
      "id": "1685ba0c",
      "metadata": {
        "id": "1685ba0c"
      },
      "source": [
        "The strftime() function takes struct_time (or tuple corresponding to it) as an argument and returns a string representing it based on the format code used."
      ]
    },
    {
      "cell_type": "code",
      "execution_count": null,
      "id": "e3d9f414",
      "metadata": {
        "id": "e3d9f414",
        "outputId": "44de0ead-ae26-4547-ac3c-864abc734879"
      },
      "outputs": [
        {
          "name": "stdout",
          "output_type": "stream",
          "text": [
            "10/26/2022, 17:52:53\n"
          ]
        }
      ],
      "source": [
        "import time\n",
        "\n",
        "named_tuple = time.localtime() # get struct_time\n",
        "time_string = time.strftime(\"%m/%d/%Y, %H:%M:%S\", named_tuple)\n",
        "\n",
        "print(time_string)"
      ]
    },
    {
      "cell_type": "markdown",
      "id": "4a84ca26",
      "metadata": {
        "id": "4a84ca26"
      },
      "source": [
        "#### 26.7 Python time.strptime()"
      ]
    },
    {
      "cell_type": "raw",
      "id": "3f910518",
      "metadata": {
        "id": "3f910518"
      },
      "source": [
        "The strptime() function parses a string representing time and returns struct_time."
      ]
    },
    {
      "cell_type": "code",
      "execution_count": null,
      "id": "ec32b681",
      "metadata": {
        "id": "ec32b681",
        "outputId": "bb6cb64b-c642-432a-ba12-357e7d2f4d88"
      },
      "outputs": [
        {
          "name": "stdout",
          "output_type": "stream",
          "text": [
            "time.struct_time(tm_year=2018, tm_mon=6, tm_mday=21, tm_hour=0, tm_min=0, tm_sec=0, tm_wday=3, tm_yday=172, tm_isdst=-1)\n"
          ]
        }
      ],
      "source": [
        "import time\n",
        "\n",
        "time_string = \"21 June, 2018\"\n",
        "result = time.strptime(time_string, \"%d %B, %Y\")\n",
        "\n",
        "print(result)"
      ]
    },
    {
      "cell_type": "markdown",
      "id": "7bf24957",
      "metadata": {
        "id": "7bf24957"
      },
      "source": [
        "#### 26.8 time.perf_counter"
      ]
    },
    {
      "cell_type": "code",
      "execution_count": null,
      "id": "1f2c2a74",
      "metadata": {
        "id": "1f2c2a74",
        "outputId": "6ff399fb-dbb4-4dc4-9492-683f9c3cb2b7"
      },
      "outputs": [
        {
          "name": "stdout",
          "output_type": "stream",
          "text": [
            "Time taken by for loop = 0.00020249999943189323\n"
          ]
        }
      ],
      "source": [
        "def test_time():\n",
        "    for i in range(1000):\n",
        "        pass\n",
        "start_time = time.perf_counter()\n",
        "\n",
        "test_time()\n",
        "\n",
        "end_time = time.perf_counter()\n",
        "\n",
        "print(f\"Time taken by for loop = {end_time-start_time}\")"
      ]
    },
    {
      "cell_type": "markdown",
      "id": "faf463b5",
      "metadata": {
        "id": "faf463b5"
      },
      "source": [
        "### 30. Python Datetime"
      ]
    },
    {
      "cell_type": "raw",
      "id": "c64575ab",
      "metadata": {
        "id": "c64575ab"
      },
      "source": [
        "A date in Python is not a data type of its own, but we can import a module named datetime to work with dates as date objects."
      ]
    },
    {
      "cell_type": "code",
      "execution_count": null,
      "id": "5f44a4f7",
      "metadata": {
        "id": "5f44a4f7",
        "outputId": "d50c4d6a-e8d3-4fb5-d8ae-b6dd6c02f052"
      },
      "outputs": [
        {
          "name": "stdout",
          "output_type": "stream",
          "text": [
            "2022-10-26 17:31:28.013770\n"
          ]
        }
      ],
      "source": [
        "import datetime\n",
        "\n",
        "x = datetime.datetime.now()\n",
        "print(x)"
      ]
    },
    {
      "cell_type": "markdown",
      "id": "163b9673",
      "metadata": {
        "id": "163b9673"
      },
      "source": [
        "#### 30.1 Date Output"
      ]
    },
    {
      "cell_type": "raw",
      "id": "bd043529",
      "metadata": {
        "id": "bd043529"
      },
      "source": [
        "When we execute the code from the example above the result will be:\n",
        "\n",
        "2022-10-26 17:30:10.398236\n",
        "\n",
        "The date contains year, month, day, hour, minute, second, and microsecond.\n",
        "\n",
        "The datetime module has many methods to return information about the date object."
      ]
    },
    {
      "cell_type": "code",
      "execution_count": null,
      "id": "3b54c1bd",
      "metadata": {
        "id": "3b54c1bd",
        "outputId": "89802329-e142-40f4-e242-30f662c81c4c"
      },
      "outputs": [
        {
          "name": "stdout",
          "output_type": "stream",
          "text": [
            "2022\n",
            "Wednesday\n"
          ]
        }
      ],
      "source": [
        "import datetime\n",
        "\n",
        "x = datetime.datetime.now()\n",
        "\n",
        "print(x.year)\n",
        "print(x.strftime(\"%A\"))"
      ]
    },
    {
      "cell_type": "markdown",
      "id": "3c07a655",
      "metadata": {
        "id": "3c07a655"
      },
      "source": [
        "#### 30.2 Creating Date Objects"
      ]
    },
    {
      "cell_type": "raw",
      "id": "1055c49d",
      "metadata": {
        "id": "1055c49d"
      },
      "source": [
        "To create a date, we can use the datetime() class (constructor) of the datetime module.\n",
        "\n",
        "The datetime() class requires three parameters to create a date: year, month, day.\n",
        "\n",
        "The datetime() class also takes parameters for time and timezone (hour, minute, second, microsecond, tzone), but they are optional, and has a default value of 0, (None for timezone)."
      ]
    },
    {
      "cell_type": "code",
      "execution_count": null,
      "id": "4708e335",
      "metadata": {
        "id": "4708e335",
        "outputId": "b1a7faf1-e4ac-4d8c-f412-2ecac125078d"
      },
      "outputs": [
        {
          "name": "stdout",
          "output_type": "stream",
          "text": [
            "2020-05-17 00:00:00\n"
          ]
        }
      ],
      "source": [
        "import datetime\n",
        "\n",
        "x = datetime.datetime(2020, 5, 17)\n",
        "\n",
        "print(x)"
      ]
    },
    {
      "cell_type": "markdown",
      "id": "fadc9bc9",
      "metadata": {
        "id": "fadc9bc9"
      },
      "source": [
        "#### 30.3 Get Current Date and Time"
      ]
    },
    {
      "cell_type": "code",
      "execution_count": null,
      "id": "20ddd274",
      "metadata": {
        "id": "20ddd274",
        "outputId": "a6ea58c1-cd48-4569-9a7e-e9901c54e748"
      },
      "outputs": [
        {
          "name": "stdout",
          "output_type": "stream",
          "text": [
            "2022-10-26 17:58:54.535294\n"
          ]
        }
      ],
      "source": [
        "import datetime\n",
        "datetime_object = datetime.datetime.now()\n",
        "print(datetime_object)"
      ]
    },
    {
      "cell_type": "markdown",
      "id": "a200c0ab",
      "metadata": {
        "id": "a200c0ab"
      },
      "source": [
        "#### 30.4 Get Current Date"
      ]
    },
    {
      "cell_type": "code",
      "execution_count": null,
      "id": "97e91710",
      "metadata": {
        "id": "97e91710",
        "outputId": "3342592d-5b9d-4c30-f06c-2040e4b32b26"
      },
      "outputs": [
        {
          "name": "stdout",
          "output_type": "stream",
          "text": [
            "2022-10-26\n"
          ]
        }
      ],
      "source": [
        "date_object = datetime.date.today()\n",
        "print(date_object)"
      ]
    },
    {
      "cell_type": "markdown",
      "id": "633aa433",
      "metadata": {
        "id": "633aa433"
      },
      "source": [
        "#### 30.5 datetime.timedelta"
      ]
    },
    {
      "cell_type": "raw",
      "id": "6576c213",
      "metadata": {
        "id": "6576c213"
      },
      "source": [
        "A timedelta object represents the difference between two dates or times"
      ]
    },
    {
      "cell_type": "code",
      "execution_count": null,
      "id": "0f43c9b3",
      "metadata": {
        "id": "0f43c9b3",
        "outputId": "3dba87c1-ca81-4c71-ca6c-99b345d0ba46"
      },
      "outputs": [
        {
          "name": "stdout",
          "output_type": "stream",
          "text": [
            "2022-10-31 18:01:18.110099\n"
          ]
        }
      ],
      "source": [
        "current_time = datetime.datetime.today()\n",
        "\n",
        "date_5_days = current_time + datetime.timedelta(days=5)\n",
        "print(date_5_days)"
      ]
    },
    {
      "cell_type": "code",
      "execution_count": null,
      "id": "96835d68",
      "metadata": {
        "id": "96835d68",
        "outputId": "c2ab5ee4-1b89-4614-bbad-12851871db16"
      },
      "outputs": [
        {
          "name": "stdout",
          "output_type": "stream",
          "text": [
            "2022-12-07 18:06:29.513935\n"
          ]
        }
      ],
      "source": [
        "current_time = datetime.datetime.today()\n",
        "\n",
        "new_date = current_time + datetime.timedelta(weeks=6,minutes=5)\n",
        "print(new_date)"
      ]
    },
    {
      "cell_type": "markdown",
      "id": "e0261e22",
      "metadata": {
        "id": "e0261e22"
      },
      "source": [
        "#### 30.3 The strftime() Method"
      ]
    },
    {
      "cell_type": "raw",
      "id": "d4fd4984",
      "metadata": {
        "id": "d4fd4984"
      },
      "source": [
        "The datetime object has a method for formatting date objects into readable strings.\n",
        "\n",
        "The method is called strftime(), and takes one parameter, format, to specify the format of the returned string:"
      ]
    },
    {
      "cell_type": "code",
      "execution_count": null,
      "id": "b21de398",
      "metadata": {
        "id": "b21de398",
        "outputId": "4cc1c88a-94c1-4825-f9d4-9f0518d96c6f"
      },
      "outputs": [
        {
          "name": "stdout",
          "output_type": "stream",
          "text": [
            "2022-10-26 18:02:30.457695\n",
            "2022\n",
            "22\n"
          ]
        },
        {
          "data": {
            "text/plain": [
              "'PM'"
            ]
          },
          "execution_count": 158,
          "metadata": {},
          "output_type": "execute_result"
        }
      ],
      "source": [
        "today_datetime = datetime.datetime.today()\n",
        "print(today_datetime)\n",
        "\n",
        "\n",
        "## Year\n",
        "year = today_datetime.strftime(\"%Y\") ## Year 2022\n",
        "print(year)\n",
        "short_year = today_datetime.strftime(\"%y\") ## Year 22\n",
        "print(short_year)\n",
        "\n",
        "\n",
        "## Month \n",
        "\n",
        "today_datetime.strftime('%m')  ## month 06\n",
        "today_datetime.strftime('%B')  ## month full Name >> June\n",
        "today_datetime.strftime('%b')  ## month full Name >> Jun\n",
        "\n",
        "## Date \n",
        "today_datetime.strftime('%d')  ## date 21\n",
        "\n",
        "## weekdays \n",
        "today_datetime.strftime('%A')  ## Weekday full Name >> Tuesday\n",
        "today_datetime.strftime('%a')  ## Abbreivation Weekday full Name >> Tue\n",
        "today_datetime.strftime('%w')  ## day number sun = 0, mon = 1, tue = 2, \n",
        "\n",
        "## Day Number \n",
        "today_datetime.strftime('%j')  ## Day Number from current year\n",
        "\n",
        "## weekday Number\n",
        "today_datetime.strftime('%U')  ## weekday number from current year\n",
        "\n",
        "## AM/PM\n",
        "today_datetime.strftime('%p')  ## AM/PM\n"
      ]
    },
    {
      "cell_type": "markdown",
      "source": [
        "![image.png](data:image/png;base64,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)"
      ],
      "metadata": {
        "id": "VOmLNNFA4EEb"
      },
      "id": "VOmLNNFA4EEb"
    },
    {
      "cell_type": "markdown",
      "id": "75062884",
      "metadata": {
        "id": "75062884"
      },
      "source": [
        "#### 30.4 Python strptime() - string to datetime"
      ]
    },
    {
      "cell_type": "raw",
      "id": "77173242",
      "metadata": {
        "id": "77173242"
      },
      "source": [
        "The strptime() method creates a datetime object from a given string (representing date and time)."
      ]
    },
    {
      "cell_type": "code",
      "execution_count": null,
      "id": "cdb35771",
      "metadata": {
        "id": "cdb35771",
        "outputId": "8bfd8c76-bfa2-4292-f03e-6e6743ea3c5d"
      },
      "outputs": [
        {
          "name": "stdout",
          "output_type": "stream",
          "text": [
            "2022-06-21 00:00:00\n"
          ]
        }
      ],
      "source": [
        "date1 = '21 June 2022'\n",
        "date_format = \"%d %B %Y\"\n",
        "\n",
        "date = datetime.datetime.strptime(date1,date_format)\n",
        "print(date)"
      ]
    },
    {
      "cell_type": "markdown",
      "id": "c41e0b71",
      "metadata": {
        "id": "c41e0b71"
      },
      "source": [
        "### 31. OS module"
      ]
    },
    {
      "cell_type": "raw",
      "id": "3eef9272",
      "metadata": {
        "id": "3eef9272"
      },
      "source": [
        "Python OS module provides the facility to establish the interaction between the user and the operating system. It offers many useful OS functions that are used to perform OS-based tasks and get related information about operating system.\n",
        "\n",
        "The Python OS module lets us work with the files and directories."
      ]
    },
    {
      "cell_type": "markdown",
      "id": "63f15e8a",
      "metadata": {
        "id": "63f15e8a"
      },
      "source": [
        "#### 31.1 os.getcwd()"
      ]
    },
    {
      "cell_type": "raw",
      "id": "68d078d1",
      "metadata": {
        "id": "68d078d1"
      },
      "source": [
        "It returns the current working directory(CWD) of the file."
      ]
    },
    {
      "cell_type": "code",
      "execution_count": null,
      "id": "6c78b6fd",
      "metadata": {
        "id": "6c78b6fd",
        "outputId": "cfeeac89-6298-4007-e46e-16495c5192d8"
      },
      "outputs": [
        {
          "name": "stdout",
          "output_type": "stream",
          "text": [
            "C:\\Users\\Aumsai400\\Downloads\\Daily Class Notes-20221024T103402Z-001\\Core python\n"
          ]
        }
      ],
      "source": [
        "import os     \n",
        "print(os.getcwd())   "
      ]
    },
    {
      "cell_type": "markdown",
      "id": "2dbef9ec",
      "metadata": {
        "id": "2dbef9ec"
      },
      "source": [
        "#### 31.2 os.mkdir()"
      ]
    },
    {
      "cell_type": "raw",
      "id": "18a7c31e",
      "metadata": {
        "id": "18a7c31e"
      },
      "source": [
        "The os.mkdir() function is used to create new directory."
      ]
    },
    {
      "cell_type": "code",
      "execution_count": null,
      "id": "cb5b4351",
      "metadata": {
        "id": "cb5b4351"
      },
      "outputs": [],
      "source": [
        "os.mkdir(\"\\\\newdir\")  "
      ]
    },
    {
      "cell_type": "markdown",
      "id": "2e5a718a",
      "metadata": {
        "id": "2e5a718a"
      },
      "source": [
        "#### 31.3 os.chdir()"
      ]
    },
    {
      "cell_type": "raw",
      "id": "16bf8d41",
      "metadata": {
        "id": "16bf8d41"
      },
      "source": [
        "The os module provides the chdir() function to change the current working directory."
      ]
    },
    {
      "cell_type": "code",
      "execution_count": null,
      "id": "691d50f0",
      "metadata": {
        "id": "691d50f0"
      },
      "outputs": [],
      "source": [
        "os.chdir(\"\\\\newdir\")  "
      ]
    },
    {
      "cell_type": "markdown",
      "id": "e289e9e7",
      "metadata": {
        "id": "e289e9e7"
      },
      "source": [
        "#### 31.4 os.rmdir()"
      ]
    },
    {
      "cell_type": "raw",
      "id": "d1ba0f47",
      "metadata": {
        "id": "d1ba0f47"
      },
      "source": [
        "The rmdir() function removes the specified directory with an absolute or related path. First, we have to change the current working directory and remove the folder."
      ]
    },
    {
      "cell_type": "code",
      "execution_count": null,
      "id": "9fae5951",
      "metadata": {
        "id": "9fae5951"
      },
      "outputs": [],
      "source": [
        "os.rmdir(\"\\\\newdir\")  "
      ]
    },
    {
      "cell_type": "markdown",
      "id": "f5bc1843",
      "metadata": {
        "id": "f5bc1843"
      },
      "source": [
        "#### 31.5 os.rename()"
      ]
    },
    {
      "cell_type": "raw",
      "id": "93371786",
      "metadata": {
        "id": "93371786"
      },
      "source": [
        "A file or directory can be renamed by using the function os.rename(). A user can rename the file if it has privilege to change the file."
      ]
    },
    {
      "cell_type": "raw",
      "id": "6986b6ae",
      "metadata": {
        "id": "6986b6ae"
      },
      "source": [
        "fd = \"python.txt\"    \n",
        "os.rename(fd,'Python1.txt')"
      ]
    },
    {
      "cell_type": "markdown",
      "id": "49f672f6",
      "metadata": {
        "id": "49f672f6"
      },
      "source": [
        "#### 31.6 Move file"
      ]
    },
    {
      "cell_type": "raw",
      "id": "e7de943b",
      "metadata": {
        "id": "e7de943b"
      },
      "source": [
        "For moving file from one directory to new one we can use rename method."
      ]
    },
    {
      "cell_type": "code",
      "execution_count": null,
      "id": "0866b4a8",
      "metadata": {
        "id": "0866b4a8"
      },
      "outputs": [],
      "source": [
        "source_file = 'new_sample.txt'\n",
        "destination = r'C:\\Users\\Shridhar\\Desktop\\7 May\\06_17_OS_Module\\New folder\\new_sample.txt'\n",
        "os.rename(source_file,destination)"
      ]
    },
    {
      "cell_type": "markdown",
      "id": "ce2b93b6",
      "metadata": {
        "id": "ce2b93b6"
      },
      "source": [
        "#### 31.7 os.makedirs()"
      ]
    },
    {
      "cell_type": "raw",
      "id": "2a6a65dc",
      "metadata": {
        "id": "2a6a65dc"
      },
      "source": [
        "To make multiple directories we can use makedires()"
      ]
    },
    {
      "cell_type": "code",
      "execution_count": null,
      "id": "abea98eb",
      "metadata": {
        "id": "abea98eb"
      },
      "outputs": [],
      "source": [
        "folder_path= r\"images\\kyc\\pan_card\"\n",
        "os.makedirs(folder_path)"
      ]
    },
    {
      "cell_type": "markdown",
      "id": "0f8fa7d4",
      "metadata": {
        "id": "0f8fa7d4"
      },
      "source": [
        "### 32. Shutil module"
      ]
    },
    {
      "cell_type": "raw",
      "id": "670c1b3d",
      "metadata": {
        "id": "670c1b3d"
      },
      "source": [
        "Python shutil module provides the facility to perform the high-level file operation. It can operate with the file object and offers us the ability of copy and remove the files"
      ]
    },
    {
      "cell_type": "markdown",
      "id": "a65c4b83",
      "metadata": {
        "id": "a65c4b83"
      },
      "source": [
        "#### 32.1 Copy Files"
      ]
    },
    {
      "cell_type": "raw",
      "id": "e82c8c33",
      "metadata": {
        "id": "e82c8c33"
      },
      "source": [
        "This module provides the copy() function which is used to copy a data from one file to another. The files must be in the same directory and destination file must be writable."
      ]
    },
    {
      "cell_type": "raw",
      "id": "51bbf2c6",
      "metadata": {
        "id": "51bbf2c6"
      },
      "source": [
        "Syntax-\n",
        "shutil.copyfile(source, destination, *, follow_symlinks = True)  "
      ]
    },
    {
      "cell_type": "code",
      "execution_count": null,
      "id": "cd5250ca",
      "metadata": {
        "id": "cd5250ca"
      },
      "outputs": [],
      "source": [
        "source = r\"sample.txt\"\n",
        "dest = r'copy'\n",
        "shutil.copy(source,dest)"
      ]
    },
    {
      "cell_type": "markdown",
      "id": "3b7d38f2",
      "metadata": {
        "id": "3b7d38f2"
      },
      "source": [
        "#### 32.2 The shutil.rmtree()"
      ]
    },
    {
      "cell_type": "raw",
      "id": "f50ef34c",
      "metadata": {
        "id": "f50ef34c"
      },
      "source": [
        "This method is used to delete the complete directory tree."
      ]
    },
    {
      "cell_type": "raw",
      "id": "e5a40f2c",
      "metadata": {
        "id": "e5a40f2c"
      },
      "source": [
        "shutil.rmtree(\"copy\")"
      ]
    }
  ],
  "metadata": {
    "kernelspec": {
      "display_name": "Python 3 (ipykernel)",
      "language": "python",
      "name": "python3"
    },
    "language_info": {
      "codemirror_mode": {
        "name": "ipython",
        "version": 3
      },
      "file_extension": ".py",
      "mimetype": "text/x-python",
      "name": "python",
      "nbconvert_exporter": "python",
      "pygments_lexer": "ipython3",
      "version": "3.10.7"
    },
    "colab": {
      "provenance": [],
      "collapsed_sections": [
        "55ddbe88",
        "8e16ba6a",
        "0d55c354",
        "86cecd34",
        "173266fb",
        "e472281a",
        "0f330a56",
        "63fb341c"
      ],
      "toc_visible": true
    }
  },
  "nbformat": 4,
  "nbformat_minor": 5
}